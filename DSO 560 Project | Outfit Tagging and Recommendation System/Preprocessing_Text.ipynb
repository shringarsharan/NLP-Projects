{
  "nbformat": 4,
  "nbformat_minor": 0,
  "metadata": {
    "colab": {
      "name": "Preprocessing_Text.ipynb",
      "provenance": [],
      "mount_file_id": "1PJo2HbAVzbRs_ICeIl6KZDN2y9J0PzF0",
      "authorship_tag": "ABX9TyOlvD8W98FcqLq7H8JJO/t8"
    },
    "kernelspec": {
      "name": "python3",
      "display_name": "Python 3"
    }
  },
  "cells": [
    {
      "cell_type": "code",
      "metadata": {
        "id": "HJ6kL_4VDc0s",
        "colab_type": "code",
        "colab": {}
      },
      "source": [
        "import pandas as pd\n",
        "import re \n",
        "from gensim.parsing.preprocessing import remove_stopwords\n",
        "import spacy\n",
        "nlp = spacy.load('en_core_web_sm', disable=['parser', 'ner'])"
      ],
      "execution_count": 0,
      "outputs": []
    },
    {
      "cell_type": "code",
      "metadata": {
        "id": "6bSCa2GfFuAu",
        "colab_type": "code",
        "colab": {}
      },
      "source": [
        "df = pd.read_csv('/content/drive/Shared drives/DSO 560 NLP Project/left_join.csv')"
      ],
      "execution_count": 0,
      "outputs": []
    },
    {
      "cell_type": "code",
      "metadata": {
        "id": "ZgWVWIaEF1Wc",
        "colab_type": "code",
        "colab": {}
      },
      "source": [
        "df = df[['product_id', 'brand', 'product_full_name', 'description', 'brand_category', 'attribute_name', 'attribute_value']]"
      ],
      "execution_count": 0,
      "outputs": []
    },
    {
      "cell_type": "code",
      "metadata": {
        "id": "HZEuy1FeF25-",
        "colab_type": "code",
        "outputId": "27cda93d-f9af-4d23-e6f1-9f73fa926bdc",
        "colab": {
          "base_uri": "https://localhost:8080/",
          "height": 35
        }
      },
      "source": [
        "df.shape"
      ],
      "execution_count": 4,
      "outputs": [
        {
          "output_type": "execute_result",
          "data": {
            "text/plain": [
              "(203118, 7)"
            ]
          },
          "metadata": {
            "tags": []
          },
          "execution_count": 4
        }
      ]
    },
    {
      "cell_type": "code",
      "metadata": {
        "id": "MsWr_8e1GWcf",
        "colab_type": "code",
        "colab": {}
      },
      "source": [
        "df = df.drop_duplicates()"
      ],
      "execution_count": 0,
      "outputs": []
    },
    {
      "cell_type": "code",
      "metadata": {
        "id": "yhz25HpFGaxr",
        "colab_type": "code",
        "outputId": "d7bb2350-89c9-45c1-a373-f12dc15fe262",
        "colab": {
          "base_uri": "https://localhost:8080/",
          "height": 380
        }
      },
      "source": [
        "df.head()"
      ],
      "execution_count": 6,
      "outputs": [
        {
          "output_type": "execute_result",
          "data": {
            "text/html": [
              "<div>\n",
              "<style scoped>\n",
              "    .dataframe tbody tr th:only-of-type {\n",
              "        vertical-align: middle;\n",
              "    }\n",
              "\n",
              "    .dataframe tbody tr th {\n",
              "        vertical-align: top;\n",
              "    }\n",
              "\n",
              "    .dataframe thead th {\n",
              "        text-align: right;\n",
              "    }\n",
              "</style>\n",
              "<table border=\"1\" class=\"dataframe\">\n",
              "  <thead>\n",
              "    <tr style=\"text-align: right;\">\n",
              "      <th></th>\n",
              "      <th>product_id</th>\n",
              "      <th>brand</th>\n",
              "      <th>product_full_name</th>\n",
              "      <th>description</th>\n",
              "      <th>brand_category</th>\n",
              "      <th>attribute_name</th>\n",
              "      <th>attribute_value</th>\n",
              "    </tr>\n",
              "  </thead>\n",
              "  <tbody>\n",
              "    <tr>\n",
              "      <th>0</th>\n",
              "      <td>01DPGV4YRP3Z8J85DASGZ1Y99W</td>\n",
              "      <td>Frame</td>\n",
              "      <td>Les Second - Medium--NOIR</td>\n",
              "      <td>Minimal, Modern Styling Meets Refined Luxury I...</td>\n",
              "      <td>Accessories</td>\n",
              "      <td>style</td>\n",
              "      <td>Casual</td>\n",
              "    </tr>\n",
              "    <tr>\n",
              "      <th>2</th>\n",
              "      <td>01DSE8Z2ZDAZKZ2SKCS1E3B3HK</td>\n",
              "      <td>Banana Republic</td>\n",
              "      <td>Madison 12-Hour Loafer Pump</td>\n",
              "      <td>Everything you love about our original Madison...</td>\n",
              "      <td>Unknown</td>\n",
              "      <td>shoe_width</td>\n",
              "      <td>Medium</td>\n",
              "    </tr>\n",
              "    <tr>\n",
              "      <th>4</th>\n",
              "      <td>01E2C3YN4KQ36A0REWZJ89ZN73</td>\n",
              "      <td>FREDA SALVADOR</td>\n",
              "      <td>Ace Bootie</td>\n",
              "      <td>Edgy style and expert craftsmanship combine on...</td>\n",
              "      <td>Unknown</td>\n",
              "      <td>Primary Color</td>\n",
              "      <td>Blacks</td>\n",
              "    </tr>\n",
              "    <tr>\n",
              "      <th>5</th>\n",
              "      <td>01DVCVGDJQC4J8JJ35PKZ4J169</td>\n",
              "      <td>Loewe</td>\n",
              "      <td>Hammock small textured-leather shoulder bag</td>\n",
              "      <td>Black textured-leather (Calf) Hook fastening a...</td>\n",
              "      <td>Bags / Tote Bags / Tote Bags</td>\n",
              "      <td>category</td>\n",
              "      <td>Accessory</td>\n",
              "    </tr>\n",
              "    <tr>\n",
              "      <th>7</th>\n",
              "      <td>01E223GDRKR84THXZ54GJEW60Y</td>\n",
              "      <td>Vince</td>\n",
              "      <td>Cashmere Camisole</td>\n",
              "      <td>Delicate crochet outlines a luxe tank made fro...</td>\n",
              "      <td>Unknown</td>\n",
              "      <td>fit</td>\n",
              "      <td>Semi-Fitted</td>\n",
              "    </tr>\n",
              "  </tbody>\n",
              "</table>\n",
              "</div>"
            ],
            "text/plain": [
              "                   product_id            brand  ... attribute_name attribute_value\n",
              "0  01DPGV4YRP3Z8J85DASGZ1Y99W            Frame  ...          style          Casual\n",
              "2  01DSE8Z2ZDAZKZ2SKCS1E3B3HK  Banana Republic  ...     shoe_width          Medium\n",
              "4  01E2C3YN4KQ36A0REWZJ89ZN73   FREDA SALVADOR  ...  Primary Color          Blacks\n",
              "5  01DVCVGDJQC4J8JJ35PKZ4J169            Loewe  ...       category       Accessory\n",
              "7  01E223GDRKR84THXZ54GJEW60Y            Vince  ...            fit     Semi-Fitted\n",
              "\n",
              "[5 rows x 7 columns]"
            ]
          },
          "metadata": {
            "tags": []
          },
          "execution_count": 6
        }
      ]
    },
    {
      "cell_type": "code",
      "metadata": {
        "id": "GFBEaZCBWZkT",
        "colab_type": "code",
        "outputId": "acaaa346-09e9-4126-c08a-6993ed80dceb",
        "colab": {
          "base_uri": "https://localhost:8080/",
          "height": 35
        }
      },
      "source": [
        "df.shape"
      ],
      "execution_count": 7,
      "outputs": [
        {
          "output_type": "execute_result",
          "data": {
            "text/plain": [
              "(134916, 7)"
            ]
          },
          "metadata": {
            "tags": []
          },
          "execution_count": 7
        }
      ]
    },
    {
      "cell_type": "code",
      "metadata": {
        "id": "tZHZuYtNU8vz",
        "colab_type": "code",
        "colab": {}
      },
      "source": [
        "def clean_text(x):\n",
        "    try:\n",
        "        x = re.sub(r\"[^A-Za-z0-9(),!?\\'\\`]\", \" \", x)\n",
        "        x = re.sub(r\"\\'s\", \" \\'s\", x)\n",
        "        x = re.sub(r\"\\'ve\", \" \\'ve\", x)\n",
        "        x = re.sub(r\"n\\'t\", \" n\\'t\", x)\n",
        "        x = re.sub(r\"\\'re\", \" \\'re\", x)\n",
        "        x = re.sub(r\"\\'d\", \" \\'d\", x)\n",
        "        x = re.sub(r\"\\'ll\", \" \\'ll\", x)\n",
        "        x = re.sub(r\",\", \" , \", x)\n",
        "        x = re.sub(r\"!\", \" ! \", x)\n",
        "        x = re.sub(r\"\\(\", \"\", x)\n",
        "        x = re.sub(r\"\\)\", \"\", x)\n",
        "        x = re.sub(r\"\\?\", \"\", x)\n",
        "        x = re.sub(r\"/\", \"\", x)\n",
        "        x = re.sub(r\"\\s{2,}\", \" \", x)\n",
        "        return x.lower()\n",
        "    except:\n",
        "        return ''"
      ],
      "execution_count": 0,
      "outputs": []
    },
    {
      "cell_type": "code",
      "metadata": {
        "id": "rWU3FZNIbufE",
        "colab_type": "code",
        "colab": {}
      },
      "source": [
        "def lemmatizer(x):\n",
        "    return ' '.join([token.lemma_ for token in nlp(x)])"
      ],
      "execution_count": 0,
      "outputs": []
    },
    {
      "cell_type": "code",
      "metadata": {
        "id": "OGmUgkR0VMed",
        "colab_type": "code",
        "outputId": "94ec3234-55f6-4b67-d1fb-ee6c5d9ea868",
        "colab": {
          "base_uri": "https://localhost:8080/",
          "height": 162
        }
      },
      "source": [
        "%%time\n",
        "for key in df.columns[1:]:\n",
        "    print(key)\n",
        "    df[key] = df[key].apply(clean_text)\n",
        "    df[key] = df[key].apply(remove_stopwords)\n",
        "    df[key] = df[key].apply(lemmatizer)"
      ],
      "execution_count": 10,
      "outputs": [
        {
          "output_type": "stream",
          "text": [
            "brand\n",
            "product_full_name\n",
            "description\n",
            "brand_category\n",
            "attribute_name\n",
            "attribute_value\n",
            "CPU times: user 25min 55s, sys: 1.25 s, total: 25min 56s\n",
            "Wall time: 25min 58s\n"
          ],
          "name": "stdout"
        }
      ]
    },
    {
      "cell_type": "code",
      "metadata": {
        "id": "ZnEX8nq8Vdhr",
        "colab_type": "code",
        "outputId": "6f8e7066-38d6-4d1e-8d3f-db58a8e995ea",
        "colab": {
          "base_uri": "https://localhost:8080/",
          "height": 380
        }
      },
      "source": [
        "df.head()"
      ],
      "execution_count": 11,
      "outputs": [
        {
          "output_type": "execute_result",
          "data": {
            "text/html": [
              "<div>\n",
              "<style scoped>\n",
              "    .dataframe tbody tr th:only-of-type {\n",
              "        vertical-align: middle;\n",
              "    }\n",
              "\n",
              "    .dataframe tbody tr th {\n",
              "        vertical-align: top;\n",
              "    }\n",
              "\n",
              "    .dataframe thead th {\n",
              "        text-align: right;\n",
              "    }\n",
              "</style>\n",
              "<table border=\"1\" class=\"dataframe\">\n",
              "  <thead>\n",
              "    <tr style=\"text-align: right;\">\n",
              "      <th></th>\n",
              "      <th>product_id</th>\n",
              "      <th>brand</th>\n",
              "      <th>product_full_name</th>\n",
              "      <th>description</th>\n",
              "      <th>brand_category</th>\n",
              "      <th>attribute_name</th>\n",
              "      <th>attribute_value</th>\n",
              "    </tr>\n",
              "  </thead>\n",
              "  <tbody>\n",
              "    <tr>\n",
              "      <th>0</th>\n",
              "      <td>01DPGV4YRP3Z8J85DASGZ1Y99W</td>\n",
              "      <td>frame</td>\n",
              "      <td>les second medium noir</td>\n",
              "      <td>minimal , modern styling meet refined luxury l...</td>\n",
              "      <td>accessory</td>\n",
              "      <td>style</td>\n",
              "      <td>casual</td>\n",
              "    </tr>\n",
              "    <tr>\n",
              "      <th>2</th>\n",
              "      <td>01DSE8Z2ZDAZKZ2SKCS1E3B3HK</td>\n",
              "      <td>banana republic</td>\n",
              "      <td>madison 12 hour loafer pump</td>\n",
              "      <td>love original madison , modern loafer silhouet...</td>\n",
              "      <td>unknown</td>\n",
              "      <td>shoe width</td>\n",
              "      <td>medium</td>\n",
              "    </tr>\n",
              "    <tr>\n",
              "      <th>4</th>\n",
              "      <td>01E2C3YN4KQ36A0REWZJ89ZN73</td>\n",
              "      <td>freda salvador</td>\n",
              "      <td>ace bootie</td>\n",
              "      <td>edgy style expert craftsmanship combine block ...</td>\n",
              "      <td>unknown</td>\n",
              "      <td>primary color</td>\n",
              "      <td>black</td>\n",
              "    </tr>\n",
              "    <tr>\n",
              "      <th>5</th>\n",
              "      <td>01DVCVGDJQC4J8JJ35PKZ4J169</td>\n",
              "      <td>loewe</td>\n",
              "      <td>hammock small textured leather shoulder bag</td>\n",
              "      <td>black textured leather calf hook fasten open w...</td>\n",
              "      <td>bag tote bag tote bag</td>\n",
              "      <td>category</td>\n",
              "      <td>accessory</td>\n",
              "    </tr>\n",
              "    <tr>\n",
              "      <th>7</th>\n",
              "      <td>01E223GDRKR84THXZ54GJEW60Y</td>\n",
              "      <td>vince</td>\n",
              "      <td>cashmere camisole</td>\n",
              "      <td>delicate crochet outlines luxe tank pure cashmere</td>\n",
              "      <td>unknown</td>\n",
              "      <td>fit</td>\n",
              "      <td>semi fit</td>\n",
              "    </tr>\n",
              "  </tbody>\n",
              "</table>\n",
              "</div>"
            ],
            "text/plain": [
              "                   product_id            brand  ... attribute_name attribute_value\n",
              "0  01DPGV4YRP3Z8J85DASGZ1Y99W            frame  ...          style          casual\n",
              "2  01DSE8Z2ZDAZKZ2SKCS1E3B3HK  banana republic  ...     shoe width          medium\n",
              "4  01E2C3YN4KQ36A0REWZJ89ZN73   freda salvador  ...  primary color           black\n",
              "5  01DVCVGDJQC4J8JJ35PKZ4J169            loewe  ...       category       accessory\n",
              "7  01E223GDRKR84THXZ54GJEW60Y            vince  ...            fit        semi fit\n",
              "\n",
              "[5 rows x 7 columns]"
            ]
          },
          "metadata": {
            "tags": []
          },
          "execution_count": 11
        }
      ]
    },
    {
      "cell_type": "code",
      "metadata": {
        "id": "qN3SsBZ3leAB",
        "colab_type": "code",
        "colab": {
          "base_uri": "https://localhost:8080/",
          "height": 35
        },
        "outputId": "034111c2-e9af-41a1-ea37-d951f0e5b619"
      },
      "source": [
        "df.shape"
      ],
      "execution_count": 12,
      "outputs": [
        {
          "output_type": "execute_result",
          "data": {
            "text/plain": [
              "(134916, 7)"
            ]
          },
          "metadata": {
            "tags": []
          },
          "execution_count": 12
        }
      ]
    },
    {
      "cell_type": "code",
      "metadata": {
        "id": "sn9wx3M5leJZ",
        "colab_type": "code",
        "colab": {}
      },
      "source": [
        "df = df.drop_duplicates()"
      ],
      "execution_count": 0,
      "outputs": []
    },
    {
      "cell_type": "code",
      "metadata": {
        "id": "Uz5RVXmZleSk",
        "colab_type": "code",
        "colab": {
          "base_uri": "https://localhost:8080/",
          "height": 35
        },
        "outputId": "f7bf52c8-7536-4f6f-aaac-c282f579db3a"
      },
      "source": [
        "df.shape"
      ],
      "execution_count": 14,
      "outputs": [
        {
          "output_type": "execute_result",
          "data": {
            "text/plain": [
              "(127409, 7)"
            ]
          },
          "metadata": {
            "tags": []
          },
          "execution_count": 14
        }
      ]
    },
    {
      "cell_type": "code",
      "metadata": {
        "id": "McIo8XaCUreC",
        "colab_type": "code",
        "outputId": "6841a351-055e-4096-bfc6-8f37f8e178da",
        "colab": {
          "base_uri": "https://localhost:8080/",
          "height": 35
        }
      },
      "source": [
        "train = df[df['attribute_name'] != '']\n",
        "train.shape"
      ],
      "execution_count": 15,
      "outputs": [
        {
          "output_type": "execute_result",
          "data": {
            "text/plain": [
              "(83307, 7)"
            ]
          },
          "metadata": {
            "tags": []
          },
          "execution_count": 15
        }
      ]
    },
    {
      "cell_type": "code",
      "metadata": {
        "id": "3GqBWFkzGnEG",
        "colab_type": "code",
        "colab": {}
      },
      "source": [
        "train.to_csv('/content/drive/My Drive/NLP/train.csv', index = False)"
      ],
      "execution_count": 0,
      "outputs": []
    },
    {
      "cell_type": "code",
      "metadata": {
        "id": "JbvXmhexGn8O",
        "colab_type": "code",
        "outputId": "eff86283-b07f-4246-ba48-f308aba00a3f",
        "colab": {
          "base_uri": "https://localhost:8080/",
          "height": 35
        }
      },
      "source": [
        "test = df[df['attribute_name'] == '']\n",
        "test.shape"
      ],
      "execution_count": 17,
      "outputs": [
        {
          "output_type": "execute_result",
          "data": {
            "text/plain": [
              "(44102, 7)"
            ]
          },
          "metadata": {
            "tags": []
          },
          "execution_count": 17
        }
      ]
    },
    {
      "cell_type": "code",
      "metadata": {
        "id": "ckkeNjukGxHh",
        "colab_type": "code",
        "colab": {}
      },
      "source": [
        "test.to_csv('/content/drive/My Drive/NLP/test.csv', index = False)"
      ],
      "execution_count": 0,
      "outputs": []
    },
    {
      "cell_type": "code",
      "metadata": {
        "id": "P1IvLX7XcF10",
        "colab_type": "code",
        "outputId": "a36af977-2395-4d49-bb48-721ae85ad581",
        "colab": {
          "base_uri": "https://localhost:8080/",
          "height": 253
        }
      },
      "source": [
        "train[train['attribute_name'] == 'style']['attribute_value'].value_counts()"
      ],
      "execution_count": 19,
      "outputs": [
        {
          "output_type": "execute_result",
          "data": {
            "text/plain": [
              "casual             2633\n",
              "modern             1838\n",
              "classic            1488\n",
              "businesscasual     1128\n",
              "edgy                804\n",
              "androgynous         691\n",
              "romantic            558\n",
              "boho                468\n",
              "glam                423\n",
              "business casual     356\n",
              "athleisure          280\n",
              "retro               220\n",
              "Name: attribute_value, dtype: int64"
            ]
          },
          "metadata": {
            "tags": []
          },
          "execution_count": 19
        }
      ]
    }
  ]
}