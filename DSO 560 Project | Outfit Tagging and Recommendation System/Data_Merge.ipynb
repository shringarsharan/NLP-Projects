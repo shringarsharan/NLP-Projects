{
  "nbformat": 4,
  "nbformat_minor": 0,
  "metadata": {
    "colab": {
      "name": "Data Merge.ipynb",
      "provenance": [],
      "mount_file_id": "1FEo2cie6IlTh9p8MIbhyN3oLA8qGaB2B",
      "authorship_tag": "ABX9TyNbF4wosUNrk3xjUQF16CJB",
      "include_colab_link": true
    },
    "kernelspec": {
      "name": "python3",
      "display_name": "Python 3"
    }
  },
  "cells": [
    {
      "cell_type": "markdown",
      "metadata": {
        "id": "view-in-github",
        "colab_type": "text"
      },
      "source": [
        "<a href=\"https://colab.research.google.com/github/shashank-r97/NLP/blob/master/Data_Merge.ipynb\" target=\"_parent\"><img src=\"https://colab.research.google.com/assets/colab-badge.svg\" alt=\"Open In Colab\"/></a>"
      ]
    },
    {
      "cell_type": "code",
      "metadata": {
        "id": "_N7Cg-2ke6lc",
        "colab_type": "code",
        "colab": {}
      },
      "source": [
        "import pandas as pd"
      ],
      "execution_count": 0,
      "outputs": []
    },
    {
      "cell_type": "code",
      "metadata": {
        "id": "SRnXsjx5fFJ-",
        "colab_type": "code",
        "colab": {
          "base_uri": "https://localhost:8080/",
          "height": 72
        },
        "outputId": "da2eaffc-e48c-4b34-86d0-f9ae53719d74"
      },
      "source": [
        "%%time\n",
        "df = pd.read_csv('/content/drive/My Drive/DSO 560/Full+data.csv')[['product_id', 'brand', 'name', 'description', 'brand_category', 'details', 'labels']]"
      ],
      "execution_count": 2,
      "outputs": [
        {
          "output_type": "stream",
          "text": [
            "CPU times: user 945 ms, sys: 151 ms, total: 1.1 s\n",
            "Wall time: 1.15 s\n"
          ],
          "name": "stdout"
        },
        {
          "output_type": "stream",
          "text": [
            "<string>:2: DtypeWarning: Columns (2) have mixed types.Specify dtype option on import or set low_memory=False.\n"
          ],
          "name": "stderr"
        }
      ]
    },
    {
      "cell_type": "code",
      "metadata": {
        "id": "vk2VIO9SfN7_",
        "colab_type": "code",
        "colab": {
          "base_uri": "https://localhost:8080/",
          "height": 397
        },
        "outputId": "c1058260-a964-40c7-bd28-4ea9ea9369e9"
      },
      "source": [
        "df.head()"
      ],
      "execution_count": 3,
      "outputs": [
        {
          "output_type": "execute_result",
          "data": {
            "text/html": [
              "<div>\n",
              "<style scoped>\n",
              "    .dataframe tbody tr th:only-of-type {\n",
              "        vertical-align: middle;\n",
              "    }\n",
              "\n",
              "    .dataframe tbody tr th {\n",
              "        vertical-align: top;\n",
              "    }\n",
              "\n",
              "    .dataframe thead th {\n",
              "        text-align: right;\n",
              "    }\n",
              "</style>\n",
              "<table border=\"1\" class=\"dataframe\">\n",
              "  <thead>\n",
              "    <tr style=\"text-align: right;\">\n",
              "      <th></th>\n",
              "      <th>product_id</th>\n",
              "      <th>brand</th>\n",
              "      <th>name</th>\n",
              "      <th>description</th>\n",
              "      <th>brand_category</th>\n",
              "      <th>details</th>\n",
              "      <th>labels</th>\n",
              "    </tr>\n",
              "  </thead>\n",
              "  <tbody>\n",
              "    <tr>\n",
              "      <th>0</th>\n",
              "      <td>01DSRPSZTDW2PGK1YWYXJGKZZ0</td>\n",
              "      <td>FILA</td>\n",
              "      <td>Original Fitness Sneakers</td>\n",
              "      <td>Vintage Fitness leather sneakers with logo pri...</td>\n",
              "      <td>TheMensStore/Shoes/Sneakers/LowTop</td>\n",
              "      <td>Leather/synthetic upper\\nLace-up closure\\nText...</td>\n",
              "      <td>{\"Needs Attributes\"}</td>\n",
              "    </tr>\n",
              "    <tr>\n",
              "      <th>1</th>\n",
              "      <td>01DSQXJBX0R7DCW7KTAC1SW547</td>\n",
              "      <td>CHANEL</td>\n",
              "      <td>HAT</td>\n",
              "      <td>NaN</td>\n",
              "      <td>Unknown</td>\n",
              "      <td>WOOL TWEED &amp; FELT</td>\n",
              "      <td>{\"Needs Review\"}</td>\n",
              "    </tr>\n",
              "    <tr>\n",
              "      <th>2</th>\n",
              "      <td>01DPGV8TGRAB993PF7Z3YWG2VR</td>\n",
              "      <td>Frame</td>\n",
              "      <td>Petit Oval Buckle Belt</td>\n",
              "      <td>A Timeless Leather Belt Crafted From Smooth Co...</td>\n",
              "      <td>Accessories</td>\n",
              "      <td>NaN</td>\n",
              "      <td>{}</td>\n",
              "    </tr>\n",
              "    <tr>\n",
              "      <th>3</th>\n",
              "      <td>01DSR8G3F7DBRTMP8THF97XSQ2</td>\n",
              "      <td>Lilly Pulitzer Kids</td>\n",
              "      <td>Little Gir's &amp; Girl's Ariana One-Piece UPF 50+...</td>\n",
              "      <td>Pretty ruffle sleeves and trim elevate essenti...</td>\n",
              "      <td>JustKids/Girls214/Girls/SwimwearCoverups,JustK...</td>\n",
              "      <td>Scoopneck\\nAdjustable straps\\nFlutter sleeves\\...</td>\n",
              "      <td>{\"Needs Review\"}</td>\n",
              "    </tr>\n",
              "    <tr>\n",
              "      <th>4</th>\n",
              "      <td>01DSR8G5GP519DEDCSKBMWQVK5</td>\n",
              "      <td>Kissy Kissy</td>\n",
              "      <td>Baby Girl's Endearing Elephants Pima Cotton Co...</td>\n",
              "      <td>Versatile convertible gown with elephant applique</td>\n",
              "      <td>JustKids/Baby024months/InfantGirls/FootiesRompers</td>\n",
              "      <td>V-neckline\\nLong sleeves\\nFront snap closure\\n...</td>\n",
              "      <td>{\"Needs Review\"}</td>\n",
              "    </tr>\n",
              "  </tbody>\n",
              "</table>\n",
              "</div>"
            ],
            "text/plain": [
              "                   product_id  ...                labels\n",
              "0  01DSRPSZTDW2PGK1YWYXJGKZZ0  ...  {\"Needs Attributes\"}\n",
              "1  01DSQXJBX0R7DCW7KTAC1SW547  ...      {\"Needs Review\"}\n",
              "2  01DPGV8TGRAB993PF7Z3YWG2VR  ...                    {}\n",
              "3  01DSR8G3F7DBRTMP8THF97XSQ2  ...      {\"Needs Review\"}\n",
              "4  01DSR8G5GP519DEDCSKBMWQVK5  ...      {\"Needs Review\"}\n",
              "\n",
              "[5 rows x 7 columns]"
            ]
          },
          "metadata": {
            "tags": []
          },
          "execution_count": 3
        }
      ]
    },
    {
      "cell_type": "code",
      "metadata": {
        "id": "E2ZMKBmlfPHO",
        "colab_type": "code",
        "colab": {
          "base_uri": "https://localhost:8080/",
          "height": 53
        },
        "outputId": "d1082439-6319-44d1-c92f-1c9709db7305"
      },
      "source": [
        "%%time\n",
        "tags = pd.read_excel('/content/drive/My Drive/DSO 560/USC+Product+Attribute+Data+03302020.xlsx')"
      ],
      "execution_count": 4,
      "outputs": [
        {
          "output_type": "stream",
          "text": [
            "CPU times: user 826 ms, sys: 9.96 ms, total: 836 ms\n",
            "Wall time: 839 ms\n"
          ],
          "name": "stdout"
        }
      ]
    },
    {
      "cell_type": "code",
      "metadata": {
        "id": "kfNVuSwOfXFZ",
        "colab_type": "code",
        "colab": {
          "base_uri": "https://localhost:8080/",
          "height": 206
        },
        "outputId": "91bd5e8d-a089-4e7b-f97e-56e5b35cde5b"
      },
      "source": [
        "tags.head()"
      ],
      "execution_count": 5,
      "outputs": [
        {
          "output_type": "execute_result",
          "data": {
            "text/html": [
              "<div>\n",
              "<style scoped>\n",
              "    .dataframe tbody tr th:only-of-type {\n",
              "        vertical-align: middle;\n",
              "    }\n",
              "\n",
              "    .dataframe tbody tr th {\n",
              "        vertical-align: top;\n",
              "    }\n",
              "\n",
              "    .dataframe thead th {\n",
              "        text-align: right;\n",
              "    }\n",
              "</style>\n",
              "<table border=\"1\" class=\"dataframe\">\n",
              "  <thead>\n",
              "    <tr style=\"text-align: right;\">\n",
              "      <th></th>\n",
              "      <th>product_id</th>\n",
              "      <th>product_color_id</th>\n",
              "      <th>attribute_name</th>\n",
              "      <th>attribute_value</th>\n",
              "    </tr>\n",
              "  </thead>\n",
              "  <tbody>\n",
              "    <tr>\n",
              "      <th>0</th>\n",
              "      <td>01DVBTBPHR8WJTCVEN5AJRHF47</td>\n",
              "      <td>01DVBTBPJ41VVT00JJCG8TTZ2W</td>\n",
              "      <td>gender</td>\n",
              "      <td>Women</td>\n",
              "    </tr>\n",
              "    <tr>\n",
              "      <th>1</th>\n",
              "      <td>01DVA7QRXM928ZM0WWR7HFNTC1</td>\n",
              "      <td>01DVA7QRXXR9F0TWVE1HMC5ZQ3</td>\n",
              "      <td>Primary Color</td>\n",
              "      <td>Blacks</td>\n",
              "    </tr>\n",
              "    <tr>\n",
              "      <th>2</th>\n",
              "      <td>01DPGV4YRP3Z8J85DASGZ1Y99W</td>\n",
              "      <td>01DPGVGBK6YGNYGNF2S6FSH02T</td>\n",
              "      <td>style</td>\n",
              "      <td>Casual</td>\n",
              "    </tr>\n",
              "    <tr>\n",
              "      <th>3</th>\n",
              "      <td>01E1JM43NQ3H17PB22EV3074NX</td>\n",
              "      <td>01E1JM5WFWWCCCH3JTTTCYQCEQ</td>\n",
              "      <td>style</td>\n",
              "      <td>Modern</td>\n",
              "    </tr>\n",
              "    <tr>\n",
              "      <th>4</th>\n",
              "      <td>01DSE8Z2ZDAZKZ2SKCS1E3B3HK</td>\n",
              "      <td>01DSE8ZG8Y3FR8KWE2TY1QDWBF</td>\n",
              "      <td>shoe_width</td>\n",
              "      <td>Medium</td>\n",
              "    </tr>\n",
              "  </tbody>\n",
              "</table>\n",
              "</div>"
            ],
            "text/plain": [
              "                   product_id  ... attribute_value\n",
              "0  01DVBTBPHR8WJTCVEN5AJRHF47  ...           Women\n",
              "1  01DVA7QRXM928ZM0WWR7HFNTC1  ...          Blacks\n",
              "2  01DPGV4YRP3Z8J85DASGZ1Y99W  ...          Casual\n",
              "3  01E1JM43NQ3H17PB22EV3074NX  ...          Modern\n",
              "4  01DSE8Z2ZDAZKZ2SKCS1E3B3HK  ...          Medium\n",
              "\n",
              "[5 rows x 4 columns]"
            ]
          },
          "metadata": {
            "tags": []
          },
          "execution_count": 5
        }
      ]
    },
    {
      "cell_type": "code",
      "metadata": {
        "id": "dm7_RIGZfYbX",
        "colab_type": "code",
        "colab": {
          "base_uri": "https://localhost:8080/",
          "height": 206
        },
        "outputId": "3a74f3d5-5c83-4a09-8063-279fd6832562"
      },
      "source": [
        "tags = df[['product_id']].merge(tags, on = 'product_id', how = 'left')\n",
        "tags.head()"
      ],
      "execution_count": 6,
      "outputs": [
        {
          "output_type": "execute_result",
          "data": {
            "text/html": [
              "<div>\n",
              "<style scoped>\n",
              "    .dataframe tbody tr th:only-of-type {\n",
              "        vertical-align: middle;\n",
              "    }\n",
              "\n",
              "    .dataframe tbody tr th {\n",
              "        vertical-align: top;\n",
              "    }\n",
              "\n",
              "    .dataframe thead th {\n",
              "        text-align: right;\n",
              "    }\n",
              "</style>\n",
              "<table border=\"1\" class=\"dataframe\">\n",
              "  <thead>\n",
              "    <tr style=\"text-align: right;\">\n",
              "      <th></th>\n",
              "      <th>product_id</th>\n",
              "      <th>product_color_id</th>\n",
              "      <th>attribute_name</th>\n",
              "      <th>attribute_value</th>\n",
              "    </tr>\n",
              "  </thead>\n",
              "  <tbody>\n",
              "    <tr>\n",
              "      <th>0</th>\n",
              "      <td>01DSRPSZTDW2PGK1YWYXJGKZZ0</td>\n",
              "      <td>NaN</td>\n",
              "      <td>NaN</td>\n",
              "      <td>NaN</td>\n",
              "    </tr>\n",
              "    <tr>\n",
              "      <th>1</th>\n",
              "      <td>01DSQXJBX0R7DCW7KTAC1SW547</td>\n",
              "      <td>NaN</td>\n",
              "      <td>NaN</td>\n",
              "      <td>NaN</td>\n",
              "    </tr>\n",
              "    <tr>\n",
              "      <th>2</th>\n",
              "      <td>01DPGV8TGRAB993PF7Z3YWG2VR</td>\n",
              "      <td>NaN</td>\n",
              "      <td>NaN</td>\n",
              "      <td>NaN</td>\n",
              "    </tr>\n",
              "    <tr>\n",
              "      <th>3</th>\n",
              "      <td>01DSR8G3F7DBRTMP8THF97XSQ2</td>\n",
              "      <td>NaN</td>\n",
              "      <td>NaN</td>\n",
              "      <td>NaN</td>\n",
              "    </tr>\n",
              "    <tr>\n",
              "      <th>4</th>\n",
              "      <td>01DSR8G5GP519DEDCSKBMWQVK5</td>\n",
              "      <td>NaN</td>\n",
              "      <td>NaN</td>\n",
              "      <td>NaN</td>\n",
              "    </tr>\n",
              "  </tbody>\n",
              "</table>\n",
              "</div>"
            ],
            "text/plain": [
              "                   product_id product_color_id attribute_name attribute_value\n",
              "0  01DSRPSZTDW2PGK1YWYXJGKZZ0              NaN            NaN             NaN\n",
              "1  01DSQXJBX0R7DCW7KTAC1SW547              NaN            NaN             NaN\n",
              "2  01DPGV8TGRAB993PF7Z3YWG2VR              NaN            NaN             NaN\n",
              "3  01DSR8G3F7DBRTMP8THF97XSQ2              NaN            NaN             NaN\n",
              "4  01DSR8G5GP519DEDCSKBMWQVK5              NaN            NaN             NaN"
            ]
          },
          "metadata": {
            "tags": []
          },
          "execution_count": 6
        }
      ]
    },
    {
      "cell_type": "code",
      "metadata": {
        "id": "7D72smhWfb39",
        "colab_type": "code",
        "colab": {}
      },
      "source": [
        "df['attribute_name'] = tags['attribute_name']\n",
        "df['attribute_value'] = tags['attribute_value']"
      ],
      "execution_count": 0,
      "outputs": []
    },
    {
      "cell_type": "code",
      "metadata": {
        "id": "8BMeqIvJfe6s",
        "colab_type": "code",
        "colab": {
          "base_uri": "https://localhost:8080/",
          "height": 53
        },
        "outputId": "492ccf69-4969-4b35-e68d-b80637a03d94"
      },
      "source": [
        "%%time\n",
        "add_tags = pd.read_csv('/content/drive/My Drive/DSO 560/usc_additional_tags.csv')"
      ],
      "execution_count": 8,
      "outputs": [
        {
          "output_type": "stream",
          "text": [
            "CPU times: user 90 ms, sys: 4.16 ms, total: 94.2 ms\n",
            "Wall time: 100 ms\n"
          ],
          "name": "stdout"
        }
      ]
    },
    {
      "cell_type": "code",
      "metadata": {
        "id": "CmrtaeoOgWQZ",
        "colab_type": "code",
        "colab": {
          "base_uri": "https://localhost:8080/",
          "height": 206
        },
        "outputId": "dd8d4bb0-db74-4673-eac3-fdf8defb1354"
      },
      "source": [
        "add_tags = df[['product_id']].merge(add_tags, on = 'product_id', how = 'left')\n",
        "add_tags.head()"
      ],
      "execution_count": 9,
      "outputs": [
        {
          "output_type": "execute_result",
          "data": {
            "text/html": [
              "<div>\n",
              "<style scoped>\n",
              "    .dataframe tbody tr th:only-of-type {\n",
              "        vertical-align: middle;\n",
              "    }\n",
              "\n",
              "    .dataframe tbody tr th {\n",
              "        vertical-align: top;\n",
              "    }\n",
              "\n",
              "    .dataframe thead th {\n",
              "        text-align: right;\n",
              "    }\n",
              "</style>\n",
              "<table border=\"1\" class=\"dataframe\">\n",
              "  <thead>\n",
              "    <tr style=\"text-align: right;\">\n",
              "      <th></th>\n",
              "      <th>product_id</th>\n",
              "      <th>product_color_id</th>\n",
              "      <th>attribute_name</th>\n",
              "      <th>attribute_value</th>\n",
              "    </tr>\n",
              "  </thead>\n",
              "  <tbody>\n",
              "    <tr>\n",
              "      <th>0</th>\n",
              "      <td>01DSRPSZTDW2PGK1YWYXJGKZZ0</td>\n",
              "      <td>NaN</td>\n",
              "      <td>NaN</td>\n",
              "      <td>NaN</td>\n",
              "    </tr>\n",
              "    <tr>\n",
              "      <th>1</th>\n",
              "      <td>01DSQXJBX0R7DCW7KTAC1SW547</td>\n",
              "      <td>NaN</td>\n",
              "      <td>NaN</td>\n",
              "      <td>NaN</td>\n",
              "    </tr>\n",
              "    <tr>\n",
              "      <th>2</th>\n",
              "      <td>01DPGV8TGRAB993PF7Z3YWG2VR</td>\n",
              "      <td>NaN</td>\n",
              "      <td>NaN</td>\n",
              "      <td>NaN</td>\n",
              "    </tr>\n",
              "    <tr>\n",
              "      <th>3</th>\n",
              "      <td>01DSR8G3F7DBRTMP8THF97XSQ2</td>\n",
              "      <td>NaN</td>\n",
              "      <td>NaN</td>\n",
              "      <td>NaN</td>\n",
              "    </tr>\n",
              "    <tr>\n",
              "      <th>4</th>\n",
              "      <td>01DSR8G5GP519DEDCSKBMWQVK5</td>\n",
              "      <td>NaN</td>\n",
              "      <td>NaN</td>\n",
              "      <td>NaN</td>\n",
              "    </tr>\n",
              "  </tbody>\n",
              "</table>\n",
              "</div>"
            ],
            "text/plain": [
              "                   product_id product_color_id attribute_name attribute_value\n",
              "0  01DSRPSZTDW2PGK1YWYXJGKZZ0              NaN            NaN             NaN\n",
              "1  01DSQXJBX0R7DCW7KTAC1SW547              NaN            NaN             NaN\n",
              "2  01DPGV8TGRAB993PF7Z3YWG2VR              NaN            NaN             NaN\n",
              "3  01DSR8G3F7DBRTMP8THF97XSQ2              NaN            NaN             NaN\n",
              "4  01DSR8G5GP519DEDCSKBMWQVK5              NaN            NaN             NaN"
            ]
          },
          "metadata": {
            "tags": []
          },
          "execution_count": 9
        }
      ]
    },
    {
      "cell_type": "code",
      "metadata": {
        "id": "Nd4ZprNOgc5t",
        "colab_type": "code",
        "colab": {}
      },
      "source": [
        "df['attribute_name'] = df['attribute_name'].fillna(add_tags['attribute_name'])\n",
        "df['attribute_value'] = df['attribute_value'].fillna(add_tags['attribute_value'])"
      ],
      "execution_count": 0,
      "outputs": []
    },
    {
      "cell_type": "code",
      "metadata": {
        "id": "IKeqEfEhgf39",
        "colab_type": "code",
        "colab": {
          "base_uri": "https://localhost:8080/",
          "height": 556
        },
        "outputId": "f0166a2c-672c-4138-933e-e0eb695f6a3f"
      },
      "source": [
        "df.head()"
      ],
      "execution_count": 11,
      "outputs": [
        {
          "output_type": "execute_result",
          "data": {
            "text/html": [
              "<div>\n",
              "<style scoped>\n",
              "    .dataframe tbody tr th:only-of-type {\n",
              "        vertical-align: middle;\n",
              "    }\n",
              "\n",
              "    .dataframe tbody tr th {\n",
              "        vertical-align: top;\n",
              "    }\n",
              "\n",
              "    .dataframe thead th {\n",
              "        text-align: right;\n",
              "    }\n",
              "</style>\n",
              "<table border=\"1\" class=\"dataframe\">\n",
              "  <thead>\n",
              "    <tr style=\"text-align: right;\">\n",
              "      <th></th>\n",
              "      <th>product_id</th>\n",
              "      <th>brand</th>\n",
              "      <th>name</th>\n",
              "      <th>description</th>\n",
              "      <th>brand_category</th>\n",
              "      <th>details</th>\n",
              "      <th>labels</th>\n",
              "      <th>attribute_name</th>\n",
              "      <th>attribute_value</th>\n",
              "    </tr>\n",
              "  </thead>\n",
              "  <tbody>\n",
              "    <tr>\n",
              "      <th>0</th>\n",
              "      <td>01DSRPSZTDW2PGK1YWYXJGKZZ0</td>\n",
              "      <td>FILA</td>\n",
              "      <td>Original Fitness Sneakers</td>\n",
              "      <td>Vintage Fitness leather sneakers with logo pri...</td>\n",
              "      <td>TheMensStore/Shoes/Sneakers/LowTop</td>\n",
              "      <td>Leather/synthetic upper\\nLace-up closure\\nText...</td>\n",
              "      <td>{\"Needs Attributes\"}</td>\n",
              "      <td>NaN</td>\n",
              "      <td>NaN</td>\n",
              "    </tr>\n",
              "    <tr>\n",
              "      <th>1</th>\n",
              "      <td>01DSQXJBX0R7DCW7KTAC1SW547</td>\n",
              "      <td>CHANEL</td>\n",
              "      <td>HAT</td>\n",
              "      <td>NaN</td>\n",
              "      <td>Unknown</td>\n",
              "      <td>WOOL TWEED &amp; FELT</td>\n",
              "      <td>{\"Needs Review\"}</td>\n",
              "      <td>NaN</td>\n",
              "      <td>NaN</td>\n",
              "    </tr>\n",
              "    <tr>\n",
              "      <th>2</th>\n",
              "      <td>01DPGV8TGRAB993PF7Z3YWG2VR</td>\n",
              "      <td>Frame</td>\n",
              "      <td>Petit Oval Buckle Belt</td>\n",
              "      <td>A Timeless Leather Belt Crafted From Smooth Co...</td>\n",
              "      <td>Accessories</td>\n",
              "      <td>NaN</td>\n",
              "      <td>{}</td>\n",
              "      <td>NaN</td>\n",
              "      <td>NaN</td>\n",
              "    </tr>\n",
              "    <tr>\n",
              "      <th>3</th>\n",
              "      <td>01DSR8G3F7DBRTMP8THF97XSQ2</td>\n",
              "      <td>Lilly Pulitzer Kids</td>\n",
              "      <td>Little Gir's &amp; Girl's Ariana One-Piece UPF 50+...</td>\n",
              "      <td>Pretty ruffle sleeves and trim elevate essenti...</td>\n",
              "      <td>JustKids/Girls214/Girls/SwimwearCoverups,JustK...</td>\n",
              "      <td>Scoopneck\\nAdjustable straps\\nFlutter sleeves\\...</td>\n",
              "      <td>{\"Needs Review\"}</td>\n",
              "      <td>NaN</td>\n",
              "      <td>NaN</td>\n",
              "    </tr>\n",
              "    <tr>\n",
              "      <th>4</th>\n",
              "      <td>01DSR8G5GP519DEDCSKBMWQVK5</td>\n",
              "      <td>Kissy Kissy</td>\n",
              "      <td>Baby Girl's Endearing Elephants Pima Cotton Co...</td>\n",
              "      <td>Versatile convertible gown with elephant applique</td>\n",
              "      <td>JustKids/Baby024months/InfantGirls/FootiesRompers</td>\n",
              "      <td>V-neckline\\nLong sleeves\\nFront snap closure\\n...</td>\n",
              "      <td>{\"Needs Review\"}</td>\n",
              "      <td>NaN</td>\n",
              "      <td>NaN</td>\n",
              "    </tr>\n",
              "  </tbody>\n",
              "</table>\n",
              "</div>"
            ],
            "text/plain": [
              "                   product_id  ... attribute_value\n",
              "0  01DSRPSZTDW2PGK1YWYXJGKZZ0  ...             NaN\n",
              "1  01DSQXJBX0R7DCW7KTAC1SW547  ...             NaN\n",
              "2  01DPGV8TGRAB993PF7Z3YWG2VR  ...             NaN\n",
              "3  01DSR8G3F7DBRTMP8THF97XSQ2  ...             NaN\n",
              "4  01DSR8G5GP519DEDCSKBMWQVK5  ...             NaN\n",
              "\n",
              "[5 rows x 9 columns]"
            ]
          },
          "metadata": {
            "tags": []
          },
          "execution_count": 11
        }
      ]
    },
    {
      "cell_type": "code",
      "metadata": {
        "id": "skB9EeV3giua",
        "colab_type": "code",
        "colab": {
          "base_uri": "https://localhost:8080/",
          "height": 35
        },
        "outputId": "2f828a72-6c20-4d8c-c839-5d9503a16475"
      },
      "source": [
        "train = df[df['attribute_name'].isna() == False]\n",
        "train.shape"
      ],
      "execution_count": 12,
      "outputs": [
        {
          "output_type": "execute_result",
          "data": {
            "text/plain": [
              "(18470, 9)"
            ]
          },
          "metadata": {
            "tags": []
          },
          "execution_count": 12
        }
      ]
    },
    {
      "cell_type": "code",
      "metadata": {
        "id": "IehYFEZ6gr8_",
        "colab_type": "code",
        "colab": {
          "base_uri": "https://localhost:8080/",
          "height": 35
        },
        "outputId": "e1f754a4-5099-45c3-d60f-d6adef4f55b0"
      },
      "source": [
        "test = df[df['attribute_name'].isna() == True]\n",
        "test.shape"
      ],
      "execution_count": 13,
      "outputs": [
        {
          "output_type": "execute_result",
          "data": {
            "text/plain": [
              "(23903, 9)"
            ]
          },
          "metadata": {
            "tags": []
          },
          "execution_count": 13
        }
      ]
    },
    {
      "cell_type": "code",
      "metadata": {
        "id": "mH0kdK7oguqu",
        "colab_type": "code",
        "colab": {
          "base_uri": "https://localhost:8080/",
          "height": 53
        },
        "outputId": "dc2c8227-0c11-4679-efa2-5959fa898e82"
      },
      "source": [
        "%%time\n",
        "train.to_csv('/content/drive/My Drive/DSO 560/train.csv', index = False)"
      ],
      "execution_count": 14,
      "outputs": [
        {
          "output_type": "stream",
          "text": [
            "CPU times: user 237 ms, sys: 14.1 ms, total: 251 ms\n",
            "Wall time: 280 ms\n"
          ],
          "name": "stdout"
        }
      ]
    },
    {
      "cell_type": "code",
      "metadata": {
        "id": "GowKAKAphCNi",
        "colab_type": "code",
        "colab": {
          "base_uri": "https://localhost:8080/",
          "height": 53
        },
        "outputId": "35337e66-a02a-4157-adac-dc771a7ffafc"
      },
      "source": [
        "%%time\n",
        "test.to_csv('/content/drive/My Drive/DSO 560/test.csv', index = False)"
      ],
      "execution_count": 15,
      "outputs": [
        {
          "output_type": "stream",
          "text": [
            "CPU times: user 318 ms, sys: 11.9 ms, total: 330 ms\n",
            "Wall time: 381 ms\n"
          ],
          "name": "stdout"
        }
      ]
    },
    {
      "cell_type": "code",
      "metadata": {
        "id": "MgJOvpo2iREg",
        "colab_type": "code",
        "colab": {
          "base_uri": "https://localhost:8080/",
          "height": 363
        },
        "outputId": "6ec44763-ac75-4089-bb69-78c10b2d6671"
      },
      "source": [
        "names = []\n",
        "sizes = []\n",
        "for name in df['attribute_name'].unique()[1:]:\n",
        "    names.append(name)\n",
        "    sizes.append(df[df['attribute_name'] == name].shape[0])\n",
        "attr = pd.DataFrame()\n",
        "attr['names'] = names\n",
        "attr['sizes'] = sizes\n",
        "attr = attr.sort_values(by = 'sizes', ascending = False)\n",
        "attr.head(10)"
      ],
      "execution_count": 16,
      "outputs": [
        {
          "output_type": "execute_result",
          "data": {
            "text/html": [
              "<div>\n",
              "<style scoped>\n",
              "    .dataframe tbody tr th:only-of-type {\n",
              "        vertical-align: middle;\n",
              "    }\n",
              "\n",
              "    .dataframe tbody tr th {\n",
              "        vertical-align: top;\n",
              "    }\n",
              "\n",
              "    .dataframe thead th {\n",
              "        text-align: right;\n",
              "    }\n",
              "</style>\n",
              "<table border=\"1\" class=\"dataframe\">\n",
              "  <thead>\n",
              "    <tr style=\"text-align: right;\">\n",
              "      <th></th>\n",
              "      <th>names</th>\n",
              "      <th>sizes</th>\n",
              "    </tr>\n",
              "  </thead>\n",
              "  <tbody>\n",
              "    <tr>\n",
              "      <th>5</th>\n",
              "      <td>style</td>\n",
              "      <td>3441</td>\n",
              "    </tr>\n",
              "    <tr>\n",
              "      <th>2</th>\n",
              "      <td>occasion</td>\n",
              "      <td>2725</td>\n",
              "    </tr>\n",
              "    <tr>\n",
              "      <th>9</th>\n",
              "      <td>category</td>\n",
              "      <td>1044</td>\n",
              "    </tr>\n",
              "    <tr>\n",
              "      <th>7</th>\n",
              "      <td>gender</td>\n",
              "      <td>1003</td>\n",
              "    </tr>\n",
              "    <tr>\n",
              "      <th>4</th>\n",
              "      <td>fit</td>\n",
              "      <td>804</td>\n",
              "    </tr>\n",
              "    <tr>\n",
              "      <th>1</th>\n",
              "      <td>sizing</td>\n",
              "      <td>777</td>\n",
              "    </tr>\n",
              "    <tr>\n",
              "      <th>6</th>\n",
              "      <td>material_clothing</td>\n",
              "      <td>732</td>\n",
              "    </tr>\n",
              "    <tr>\n",
              "      <th>10</th>\n",
              "      <td>Primary Color</td>\n",
              "      <td>611</td>\n",
              "    </tr>\n",
              "    <tr>\n",
              "      <th>0</th>\n",
              "      <td>neckline</td>\n",
              "      <td>488</td>\n",
              "    </tr>\n",
              "    <tr>\n",
              "      <th>12</th>\n",
              "      <td>dry_clean_only</td>\n",
              "      <td>446</td>\n",
              "    </tr>\n",
              "  </tbody>\n",
              "</table>\n",
              "</div>"
            ],
            "text/plain": [
              "                names  sizes\n",
              "5               style   3441\n",
              "2            occasion   2725\n",
              "9            category   1044\n",
              "7              gender   1003\n",
              "4                 fit    804\n",
              "1              sizing    777\n",
              "6   material_clothing    732\n",
              "10      Primary Color    611\n",
              "0            neckline    488\n",
              "12     dry_clean_only    446"
            ]
          },
          "metadata": {
            "tags": []
          },
          "execution_count": 16
        }
      ]
    }
  ]
}