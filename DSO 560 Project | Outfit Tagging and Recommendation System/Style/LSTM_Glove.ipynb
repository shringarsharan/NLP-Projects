{
  "nbformat": 4,
  "nbformat_minor": 0,
  "metadata": {
    "colab": {
      "name": "Copy of Model_V5.ipynb",
      "provenance": [],
      "include_colab_link": true
    },
    "kernelspec": {
      "name": "python3",
      "display_name": "Python 3"
    },
    "accelerator": "GPU"
  },
  "cells": [
    {
      "cell_type": "markdown",
      "metadata": {
        "id": "view-in-github",
        "colab_type": "text"
      },
      "source": [
        "<a href=\"https://colab.research.google.com/github/shashank-r97/NLP/blob/master/Style/LSTM_Glove.ipynb\" target=\"_parent\"><img src=\"https://colab.research.google.com/assets/colab-badge.svg\" alt=\"Open In Colab\"/></a>"
      ]
    },
    {
      "cell_type": "code",
      "metadata": {
        "id": "vvLHOmMukGGN",
        "colab_type": "code",
        "colab": {}
      },
      "source": [
        "#from google.colab import drive\n",
        "#drive.mount('/content/drive')"
      ],
      "execution_count": 0,
      "outputs": []
    },
    {
      "cell_type": "code",
      "metadata": {
        "id": "4Pxdph9JB-dG",
        "colab_type": "code",
        "colab": {}
      },
      "source": [
        "#!pip install -U imbalanced-learn"
      ],
      "execution_count": 0,
      "outputs": []
    },
    {
      "cell_type": "code",
      "metadata": {
        "id": "OZMWoVO4kknG",
        "colab_type": "code",
        "outputId": "9204e46e-ec70-4efa-fae9-66f6cfd8ad7c",
        "colab": {
          "base_uri": "https://localhost:8080/",
          "height": 35
        }
      },
      "source": [
        "import pandas as pd\n",
        "import numpy as np\n",
        "from keras.preprocessing.text import Tokenizer\n",
        "from keras.preprocessing.sequence import pad_sequences\n",
        "from keras.preprocessing.sequence import pad_sequences\n",
        "from keras.models import Model, Sequential \n",
        "from keras.layers import Input, Masking\n",
        "from keras.layers import Dense, Input, Reshape\n",
        "from keras.layers import Dropout, Activation\n",
        "from keras.layers import Dense, GlobalAveragePooling1D, Activation\n",
        "from keras.layers import Flatten\n",
        "from keras.layers import Dropout\n",
        "from keras.layers import LSTM, SimpleRNN\n",
        "from keras.layers import Embedding\n",
        "import keras.backend as K \n",
        "from imblearn.combine import SMOTETomek\n",
        "from sklearn.model_selection import train_test_split\n",
        "from keras.optimizers import Adam\n",
        "from keras.layers.convolutional import Conv1D\n",
        "from keras.layers.merge import concatenate\n",
        "from keras.layers.convolutional import MaxPooling1D\n",
        "from sklearn.feature_extraction.text import TfidfVectorizer\n",
        "from gensim.models.phrases import Phraser, Phrases"
      ],
      "execution_count": 3,
      "outputs": [
        {
          "output_type": "stream",
          "text": [
            "Using TensorFlow backend.\n"
          ],
          "name": "stderr"
        }
      ]
    },
    {
      "cell_type": "code",
      "metadata": {
        "id": "1J88vxQgkvZY",
        "colab_type": "code",
        "outputId": "9392f3e6-bec1-4a29-8d7e-166e5334b8ca",
        "colab": {
          "base_uri": "https://localhost:8080/",
          "height": 53
        }
      },
      "source": [
        "%%time\n",
        "df = pd.read_csv('/content/drive/Shared drives/DSO 560 NLP Project/data.csv')\n",
        "df = df[df['attribute_name'] == 'style'].drop(columns = ['attribute_name'])\n",
        "df['attribute_value'] = df['attribute_value'].apply(lambda x: 'businesscasual' if x == 'business casual' else x)"
      ],
      "execution_count": 4,
      "outputs": [
        {
          "output_type": "stream",
          "text": [
            "CPU times: user 403 ms, sys: 72.9 ms, total: 475 ms\n",
            "Wall time: 521 ms\n"
          ],
          "name": "stdout"
        }
      ]
    },
    {
      "cell_type": "code",
      "metadata": {
        "id": "vyu18_culshy",
        "colab_type": "code",
        "outputId": "3dd006d4-659d-493b-fb59-6e3737d06550",
        "colab": {
          "base_uri": "https://localhost:8080/",
          "height": 328
        }
      },
      "source": [
        "df.head()"
      ],
      "execution_count": 5,
      "outputs": [
        {
          "output_type": "execute_result",
          "data": {
            "text/html": [
              "<div>\n",
              "<style scoped>\n",
              "    .dataframe tbody tr th:only-of-type {\n",
              "        vertical-align: middle;\n",
              "    }\n",
              "\n",
              "    .dataframe tbody tr th {\n",
              "        vertical-align: top;\n",
              "    }\n",
              "\n",
              "    .dataframe thead th {\n",
              "        text-align: right;\n",
              "    }\n",
              "</style>\n",
              "<table border=\"1\" class=\"dataframe\">\n",
              "  <thead>\n",
              "    <tr style=\"text-align: right;\">\n",
              "      <th></th>\n",
              "      <th>product_id</th>\n",
              "      <th>brand</th>\n",
              "      <th>product_full_name</th>\n",
              "      <th>description</th>\n",
              "      <th>brand_category</th>\n",
              "      <th>attribute_value</th>\n",
              "      <th>details</th>\n",
              "    </tr>\n",
              "  </thead>\n",
              "  <tbody>\n",
              "    <tr>\n",
              "      <th>0</th>\n",
              "      <td>01DPGV4YRP3Z8J85DASGZ1Y99W</td>\n",
              "      <td>frame</td>\n",
              "      <td>les second medium noir</td>\n",
              "      <td>minimal , modern styling meet refined luxury l...</td>\n",
              "      <td>accessory</td>\n",
              "      <td>casual</td>\n",
              "      <td>NaN</td>\n",
              "    </tr>\n",
              "    <tr>\n",
              "      <th>5</th>\n",
              "      <td>01DPH1DEN9G2WM7WAMJMD0A9W4</td>\n",
              "      <td>j crew</td>\n",
              "      <td>tie waist shirtdress stripe</td>\n",
              "      <td>take classic button silhouette turn ultra flat...</td>\n",
              "      <td>dressesandjumpsuits</td>\n",
              "      <td>casual</td>\n",
              "      <td>NaN</td>\n",
              "    </tr>\n",
              "    <tr>\n",
              "      <th>12</th>\n",
              "      <td>01E2KYW52BAG606GQ7A9H5R0KD</td>\n",
              "      <td>alo</td>\n",
              "      <td>interval microfleece pullover hoodie</td>\n",
              "      <td>articulate seam extra wide rib hem create shap...</td>\n",
              "      <td>unknown</td>\n",
              "      <td>casual</td>\n",
              "      <td>xs 0 2 , s 4 6 , m 8 10 , l 12 14</td>\n",
              "    </tr>\n",
              "    <tr>\n",
              "      <th>13</th>\n",
              "      <td>01DT513RRYT3SKH6X25G5VCH6B</td>\n",
              "      <td>chlo</td>\n",
              "      <td>leather ankle boot</td>\n",
              "      <td>heel measure approximately 55 mm 2 inch 30 mm ...</td>\n",
              "      <td>shoe boots ankle</td>\n",
              "      <td>androgynous</td>\n",
              "      <td>fit small size , size large normal available s...</td>\n",
              "    </tr>\n",
              "    <tr>\n",
              "      <th>20</th>\n",
              "      <td>01E2KM0KW6NB1JKMZVRXR6H8G2</td>\n",
              "      <td>alo</td>\n",
              "      <td>stadium quarter zip hoodie</td>\n",
              "      <td>supersoft hoodie design elastic hem cuff perfe...</td>\n",
              "      <td>unknown</td>\n",
              "      <td>casual</td>\n",
              "      <td>xs 0 2 , s 4 6 , m 8 10 , l 12 14</td>\n",
              "    </tr>\n",
              "  </tbody>\n",
              "</table>\n",
              "</div>"
            ],
            "text/plain": [
              "                    product_id  ...                                            details\n",
              "0   01DPGV4YRP3Z8J85DASGZ1Y99W  ...                                                NaN\n",
              "5   01DPH1DEN9G2WM7WAMJMD0A9W4  ...                                                NaN\n",
              "12  01E2KYW52BAG606GQ7A9H5R0KD  ...                  xs 0 2 , s 4 6 , m 8 10 , l 12 14\n",
              "13  01DT513RRYT3SKH6X25G5VCH6B  ...  fit small size , size large normal available s...\n",
              "20  01E2KM0KW6NB1JKMZVRXR6H8G2  ...                  xs 0 2 , s 4 6 , m 8 10 , l 12 14\n",
              "\n",
              "[5 rows x 7 columns]"
            ]
          },
          "metadata": {
            "tags": []
          },
          "execution_count": 5
        }
      ]
    },
    {
      "cell_type": "code",
      "metadata": {
        "id": "4KCfa3CVn9nY",
        "colab_type": "code",
        "colab": {}
      },
      "source": [
        "df['text'] = (df['brand'] + ' ' + df['product_full_name'] + ' ' + df['description'] + ' ' + df['brand_category']).apply(str)"
      ],
      "execution_count": 0,
      "outputs": []
    },
    {
      "cell_type": "code",
      "metadata": {
        "id": "WMi2ULgelhFo",
        "colab_type": "code",
        "colab": {}
      },
      "source": [
        "X = df['text'].values\n",
        "y = pd.get_dummies(df['attribute_value'])\n",
        "label_list = y.columns\n",
        "y = y.values"
      ],
      "execution_count": 0,
      "outputs": []
    },
    {
      "cell_type": "code",
      "metadata": {
        "id": "0YFmF01NwQGo",
        "colab_type": "code",
        "colab": {}
      },
      "source": [
        "tokenizer = Tokenizer(num_words=5000, oov_token=\"UNKNOWN_TOKEN\")\n",
        "tokenizer.fit_on_texts(X)"
      ],
      "execution_count": 0,
      "outputs": []
    },
    {
      "cell_type": "code",
      "metadata": {
        "id": "5oETme721eAP",
        "colab_type": "code",
        "colab": {}
      },
      "source": [
        "X = tokenizer.texts_to_sequences(X)"
      ],
      "execution_count": 0,
      "outputs": []
    },
    {
      "cell_type": "code",
      "metadata": {
        "id": "_IMFmGLi6sUH",
        "colab_type": "code",
        "colab": {}
      },
      "source": [
        "length = max([len(s.split()) for s in df['text']])\n",
        "vocab_size = len(tokenizer.word_index) + 1"
      ],
      "execution_count": 0,
      "outputs": []
    },
    {
      "cell_type": "code",
      "metadata": {
        "id": "jHn0BxkM6zbH",
        "colab_type": "code",
        "colab": {}
      },
      "source": [
        "X = pad_sequences(X, maxlen=length, padding='post')"
      ],
      "execution_count": 0,
      "outputs": []
    },
    {
      "cell_type": "code",
      "metadata": {
        "id": "Ae88zjZ9CZye",
        "colab_type": "code",
        "colab": {}
      },
      "source": [
        "X_train, X_test, y_train, y_test = train_test_split(X, y, test_size = 0.1, random_state = 42)"
      ],
      "execution_count": 0,
      "outputs": []
    },
    {
      "cell_type": "code",
      "metadata": {
        "id": "VDwRtJkSBvxp",
        "colab_type": "code",
        "colab": {}
      },
      "source": [
        "resampler = SMOTETomek(sampling_strategy = 'auto')\n",
        "X_train, y_train = resampler.fit_resample(X_train, y_train)"
      ],
      "execution_count": 0,
      "outputs": []
    },
    {
      "cell_type": "code",
      "metadata": {
        "id": "XNTeR6ZRoxcL",
        "colab_type": "code",
        "colab": {}
      },
      "source": [
        "num_classes = y.shape[1]"
      ],
      "execution_count": 0,
      "outputs": []
    },
    {
      "cell_type": "code",
      "metadata": {
        "id": "8F-6edne7CKl",
        "colab_type": "code",
        "colab": {
          "base_uri": "https://localhost:8080/",
          "height": 35
        },
        "outputId": "097bb2be-7209-4b6c-c68b-c37825454cf5"
      },
      "source": [
        "def load_glove_vectors():\n",
        "    embeddings_index = {}\n",
        "    with open('/content/drive/My Drive/NLP/glove.6B.100d.txt') as f:\n",
        "        for line in f:\n",
        "            values = line.split()\n",
        "            word = values[0]\n",
        "            coefs = np.asarray(values[1:], dtype='float32')\n",
        "            embeddings_index[word] = coefs\n",
        "    print('Loaded %s word vectors.' % len(embeddings_index))\n",
        "    return embeddings_index\n",
        "\n",
        "\n",
        "embeddings_index = load_glove_vectors()"
      ],
      "execution_count": 15,
      "outputs": [
        {
          "output_type": "stream",
          "text": [
            "Loaded 400000 word vectors.\n"
          ],
          "name": "stdout"
        }
      ]
    },
    {
      "cell_type": "code",
      "metadata": {
        "id": "Cm2saCqq7B6t",
        "colab_type": "code",
        "colab": {}
      },
      "source": [
        "# create a weight matrix for words in training docs\n",
        "embedding_matrix = np.zeros((vocab_size, 100))\n",
        "for word, i in tokenizer.word_index.items():\n",
        "    embedding_vector = embeddings_index.get(word)\n",
        "    if embedding_vector is not None: # check that it is an actual word that we have embeddings for\n",
        "        embedding_matrix[i] = embedding_vector"
      ],
      "execution_count": 0,
      "outputs": []
    },
    {
      "cell_type": "code",
      "metadata": {
        "id": "GEI2XRLs77Ws",
        "colab_type": "code",
        "colab": {}
      },
      "source": [
        ""
      ],
      "execution_count": 0,
      "outputs": []
    },
    {
      "cell_type": "code",
      "metadata": {
        "id": "GcWVkLPD7Bq6",
        "colab_type": "code",
        "colab": {}
      },
      "source": [
        "def define_model():\n",
        "    \n",
        "    model = Sequential()\n",
        "    model.add(Embedding(vocab_size, 100, weights=[embedding_matrix], input_length=length, trainable=False))\n",
        "    model.add(Masking(mask_value=0.0)) # masking layer, masks any words that don't have an embedding as 0s.\n",
        "    model.add(LSTM(64, return_sequences=True, dropout=0.2, recurrent_dropout=0.15, activation = 'relu'))\n",
        "    model.add(LSTM(64, return_sequences=False, dropout=0.2, recurrent_dropout=0.15, activation = 'relu'))\n",
        "    #model.add(Flatten())\n",
        "    model.add(Dense(16, activation = 'relu'))\n",
        "    model.add(Dense(num_classes, activation='sigmoid'))\n",
        "    \n",
        "    # Compile the model\n",
        "    model.compile(\n",
        "    optimizer='adam', loss='binary_crossentropy', metrics=['accuracy'])\n",
        "    \n",
        "    return model"
      ],
      "execution_count": 0,
      "outputs": []
    },
    {
      "cell_type": "markdown",
      "metadata": {
        "id": "RwR86N_D8RPY",
        "colab_type": "text"
      },
      "source": [
        "def define_model():\n",
        "    \n",
        "    model = Sequential()\n",
        "    model.add(Embedding(vocab_size, 100, weights=[embedding_matrix], input_length=length, trainable=False))\n",
        "    #model.add(Masking(mask_value=0.0)) # masking layer, masks any words that don't have an embedding as 0s.\n",
        "    LSTM(128, return_sequences=True, dropout=0.2, recurrent_dropout=0.15, activation = 'relu')\n",
        "    LSTM(128, return_sequences=False, dropout=0.2, recurrent_dropout=0.15, activation = 'relu')\n",
        "    model.add(Flatten())\n",
        "    model.add(Dense(16, activation = 'relu'))\n",
        "    model.add(Dense(num_classes, activation='sigmoid'))\n",
        "    \n",
        "    # Compile the model\n",
        "    model.compile(\n",
        "    optimizer='adam', loss='binary_crossentropy', metrics=['accuracy'])\n",
        "    \n",
        "    return model"
      ]
    },
    {
      "cell_type": "code",
      "metadata": {
        "id": "WtVkDeU4pOFw",
        "colab_type": "code",
        "outputId": "460ed4ea-4055-43ce-d5f0-842305ff6d32",
        "colab": {
          "base_uri": "https://localhost:8080/",
          "height": 380
        }
      },
      "source": [
        "model = define_model()\n",
        "model.summary()"
      ],
      "execution_count": 18,
      "outputs": [
        {
          "output_type": "stream",
          "text": [
            "Model: \"sequential_1\"\n",
            "_________________________________________________________________\n",
            "Layer (type)                 Output Shape              Param #   \n",
            "=================================================================\n",
            "embedding_1 (Embedding)      (None, 155, 100)          611400    \n",
            "_________________________________________________________________\n",
            "masking_1 (Masking)          (None, 155, 100)          0         \n",
            "_________________________________________________________________\n",
            "lstm_1 (LSTM)                (None, 155, 64)           42240     \n",
            "_________________________________________________________________\n",
            "lstm_2 (LSTM)                (None, 64)                33024     \n",
            "_________________________________________________________________\n",
            "dense_1 (Dense)              (None, 16)                1040      \n",
            "_________________________________________________________________\n",
            "dense_2 (Dense)              (None, 11)                187       \n",
            "=================================================================\n",
            "Total params: 687,891\n",
            "Trainable params: 76,491\n",
            "Non-trainable params: 611,400\n",
            "_________________________________________________________________\n"
          ],
          "name": "stdout"
        }
      ]
    },
    {
      "cell_type": "code",
      "metadata": {
        "id": "wfeN4H1XpRvM",
        "colab_type": "code",
        "outputId": "a7fd9b7b-515e-4c34-9624-1ee11ba0ee32",
        "colab": {
          "base_uri": "https://localhost:8080/",
          "height": 437
        }
      },
      "source": [
        "model.fit(X_train, y_train, validation_split=0.2, epochs=10, batch_size=512)"
      ],
      "execution_count": 19,
      "outputs": [
        {
          "output_type": "stream",
          "text": [
            "Train on 20382 samples, validate on 5096 samples\n",
            "Epoch 1/10\n",
            "20382/20382 [==============================] - 52s 3ms/step - loss: 0.6702 - accuracy: 0.8151 - val_loss: 0.5226 - val_accuracy: 0.8508\n",
            "Epoch 2/10\n",
            "20382/20382 [==============================] - 51s 2ms/step - loss: 2.4581 - accuracy: 0.8839 - val_loss: 0.4649 - val_accuracy: 0.9091\n",
            "Epoch 3/10\n",
            "20382/20382 [==============================] - 51s 3ms/step - loss: 0.4222 - accuracy: 0.9090 - val_loss: 0.4088 - val_accuracy: 0.9091\n",
            "Epoch 4/10\n",
            "20382/20382 [==============================] - 51s 2ms/step - loss: 0.3727 - accuracy: 0.9091 - val_loss: 0.3857 - val_accuracy: 0.9091\n",
            "Epoch 5/10\n",
            "20382/20382 [==============================] - 50s 2ms/step - loss: 0.3470 - accuracy: 0.9091 - val_loss: 0.3824 - val_accuracy: 0.9091\n",
            "Epoch 6/10\n",
            "20382/20382 [==============================] - 50s 2ms/step - loss: 0.3337 - accuracy: 0.9091 - val_loss: 0.3886 - val_accuracy: 0.9091\n",
            "Epoch 7/10\n",
            "20382/20382 [==============================] - 51s 2ms/step - loss: 0.3249 - accuracy: 0.9091 - val_loss: 0.4049 - val_accuracy: 0.9091\n",
            "Epoch 8/10\n",
            "20382/20382 [==============================] - 50s 2ms/step - loss: 0.3188 - accuracy: 0.9091 - val_loss: 0.4198 - val_accuracy: 0.9091\n",
            "Epoch 9/10\n",
            "20382/20382 [==============================] - 50s 2ms/step - loss: 0.3151 - accuracy: 0.9091 - val_loss: 0.4266 - val_accuracy: 0.9091\n",
            "Epoch 10/10\n",
            "20382/20382 [==============================] - 49s 2ms/step - loss: 0.3124 - accuracy: 0.9091 - val_loss: 0.4307 - val_accuracy: 0.9091\n"
          ],
          "name": "stdout"
        },
        {
          "output_type": "execute_result",
          "data": {
            "text/plain": [
              "<keras.callbacks.callbacks.History at 0x7f064f5dbf60>"
            ]
          },
          "metadata": {
            "tags": []
          },
          "execution_count": 19
        }
      ]
    },
    {
      "cell_type": "code",
      "metadata": {
        "id": "RH0rgY1WChE4",
        "colab_type": "code",
        "outputId": "f4ce2e73-b23f-41cc-b6e6-56e803fdebb9",
        "colab": {
          "base_uri": "https://localhost:8080/",
          "height": 53
        }
      },
      "source": [
        "model.evaluate(X_test, y_test)"
      ],
      "execution_count": 20,
      "outputs": [
        {
          "output_type": "stream",
          "text": [
            "1089/1089 [==============================] - 6s 5ms/step\n"
          ],
          "name": "stdout"
        },
        {
          "output_type": "execute_result",
          "data": {
            "text/plain": [
              "[0.3227814110842618, 0.909090518951416]"
            ]
          },
          "metadata": {
            "tags": []
          },
          "execution_count": 20
        }
      ]
    },
    {
      "cell_type": "code",
      "metadata": {
        "id": "ythmDKKlpjsc",
        "colab_type": "code",
        "colab": {}
      },
      "source": [
        "results = model.predict(X)"
      ],
      "execution_count": 0,
      "outputs": []
    },
    {
      "cell_type": "code",
      "metadata": {
        "id": "Xjn1GCho_snJ",
        "colab_type": "code",
        "colab": {}
      },
      "source": [
        "results_df = pd.DataFrame()\n",
        "results_mask = results > 0.1\n",
        "for i in range(len(label_list)):\n",
        "    results_df[label_list[i]] = results_mask[:,i]\n",
        "    results_df[label_list[i]] = results_df[label_list[i]].apply(int)"
      ],
      "execution_count": 0,
      "outputs": []
    },
    {
      "cell_type": "code",
      "metadata": {
        "id": "5WsQqrmxprsc",
        "colab_type": "code",
        "outputId": "950f9112-04c9-4c5b-bbfe-f5f1b9e6c1a5",
        "colab": {
          "base_uri": "https://localhost:8080/",
          "height": 35
        }
      },
      "source": [
        "results_df['sum']  = 0\n",
        "for key in label_list:\n",
        "    results_df['sum'] = results_df['sum'] + results_df[key]\n",
        "(results_df['sum'] == 0).sum()"
      ],
      "execution_count": 23,
      "outputs": [
        {
          "output_type": "execute_result",
          "data": {
            "text/plain": [
              "0"
            ]
          },
          "metadata": {
            "tags": []
          },
          "execution_count": 23
        }
      ]
    },
    {
      "cell_type": "code",
      "metadata": {
        "id": "BmfNQQbrqhhc",
        "colab_type": "code",
        "outputId": "66d36a59-9800-401a-c6ec-453e6cec4e81",
        "colab": {
          "base_uri": "https://localhost:8080/",
          "height": 293
        }
      },
      "source": [
        "results_df = results_df.drop(columns = ['sum'])\n",
        "for key in label_list:\n",
        "    results_df[key] = results_df[key].apply(lambda x: key if x == 1 else '')\n",
        "\n",
        "results_df['attribute_value'] = ''\n",
        "for key in label_list:\n",
        "    results_df['attribute_value'] = results_df['attribute_value'] + ' ' + results_df[key]\n",
        "\n",
        "results_df['attribute_value'] = results_df['attribute_value'].apply(lambda x: ', '.join(x.split()))\n",
        "results_df.head()"
      ],
      "execution_count": 24,
      "outputs": [
        {
          "output_type": "execute_result",
          "data": {
            "text/html": [
              "<div>\n",
              "<style scoped>\n",
              "    .dataframe tbody tr th:only-of-type {\n",
              "        vertical-align: middle;\n",
              "    }\n",
              "\n",
              "    .dataframe tbody tr th {\n",
              "        vertical-align: top;\n",
              "    }\n",
              "\n",
              "    .dataframe thead th {\n",
              "        text-align: right;\n",
              "    }\n",
              "</style>\n",
              "<table border=\"1\" class=\"dataframe\">\n",
              "  <thead>\n",
              "    <tr style=\"text-align: right;\">\n",
              "      <th></th>\n",
              "      <th>androgynous</th>\n",
              "      <th>athleisure</th>\n",
              "      <th>boho</th>\n",
              "      <th>businesscasual</th>\n",
              "      <th>casual</th>\n",
              "      <th>classic</th>\n",
              "      <th>edgy</th>\n",
              "      <th>glam</th>\n",
              "      <th>modern</th>\n",
              "      <th>retro</th>\n",
              "      <th>romantic</th>\n",
              "      <th>attribute_value</th>\n",
              "    </tr>\n",
              "  </thead>\n",
              "  <tbody>\n",
              "    <tr>\n",
              "      <th>0</th>\n",
              "      <td>androgynous</td>\n",
              "      <td>athleisure</td>\n",
              "      <td>boho</td>\n",
              "      <td>businesscasual</td>\n",
              "      <td>casual</td>\n",
              "      <td>classic</td>\n",
              "      <td>edgy</td>\n",
              "      <td>glam</td>\n",
              "      <td>modern</td>\n",
              "      <td></td>\n",
              "      <td></td>\n",
              "      <td>androgynous, athleisure, boho, businesscasual,...</td>\n",
              "    </tr>\n",
              "    <tr>\n",
              "      <th>1</th>\n",
              "      <td>androgynous</td>\n",
              "      <td>athleisure</td>\n",
              "      <td>boho</td>\n",
              "      <td>businesscasual</td>\n",
              "      <td>casual</td>\n",
              "      <td>classic</td>\n",
              "      <td>edgy</td>\n",
              "      <td>glam</td>\n",
              "      <td>modern</td>\n",
              "      <td></td>\n",
              "      <td></td>\n",
              "      <td>androgynous, athleisure, boho, businesscasual,...</td>\n",
              "    </tr>\n",
              "    <tr>\n",
              "      <th>2</th>\n",
              "      <td>androgynous</td>\n",
              "      <td>athleisure</td>\n",
              "      <td>boho</td>\n",
              "      <td>businesscasual</td>\n",
              "      <td>casual</td>\n",
              "      <td>classic</td>\n",
              "      <td>edgy</td>\n",
              "      <td>glam</td>\n",
              "      <td>modern</td>\n",
              "      <td></td>\n",
              "      <td></td>\n",
              "      <td>androgynous, athleisure, boho, businesscasual,...</td>\n",
              "    </tr>\n",
              "    <tr>\n",
              "      <th>3</th>\n",
              "      <td>androgynous</td>\n",
              "      <td>athleisure</td>\n",
              "      <td>boho</td>\n",
              "      <td>businesscasual</td>\n",
              "      <td>casual</td>\n",
              "      <td>classic</td>\n",
              "      <td>edgy</td>\n",
              "      <td>glam</td>\n",
              "      <td>modern</td>\n",
              "      <td></td>\n",
              "      <td></td>\n",
              "      <td>androgynous, athleisure, boho, businesscasual,...</td>\n",
              "    </tr>\n",
              "    <tr>\n",
              "      <th>4</th>\n",
              "      <td>androgynous</td>\n",
              "      <td>athleisure</td>\n",
              "      <td>boho</td>\n",
              "      <td>businesscasual</td>\n",
              "      <td>casual</td>\n",
              "      <td>classic</td>\n",
              "      <td>edgy</td>\n",
              "      <td>glam</td>\n",
              "      <td>modern</td>\n",
              "      <td></td>\n",
              "      <td></td>\n",
              "      <td>androgynous, athleisure, boho, businesscasual,...</td>\n",
              "    </tr>\n",
              "  </tbody>\n",
              "</table>\n",
              "</div>"
            ],
            "text/plain": [
              "   androgynous  ...                                    attribute_value\n",
              "0  androgynous  ...  androgynous, athleisure, boho, businesscasual,...\n",
              "1  androgynous  ...  androgynous, athleisure, boho, businesscasual,...\n",
              "2  androgynous  ...  androgynous, athleisure, boho, businesscasual,...\n",
              "3  androgynous  ...  androgynous, athleisure, boho, businesscasual,...\n",
              "4  androgynous  ...  androgynous, athleisure, boho, businesscasual,...\n",
              "\n",
              "[5 rows x 12 columns]"
            ]
          },
          "metadata": {
            "tags": []
          },
          "execution_count": 24
        }
      ]
    },
    {
      "cell_type": "code",
      "metadata": {
        "id": "kBsLjXEzyvys",
        "colab_type": "code",
        "outputId": "444ad9da-7118-432d-e42e-18fff98e3b78",
        "colab": {
          "base_uri": "https://localhost:8080/",
          "height": 417
        }
      },
      "source": [
        "results_df['attribute_value'].value_counts()"
      ],
      "execution_count": 25,
      "outputs": [
        {
          "output_type": "execute_result",
          "data": {
            "text/plain": [
              "androgynous, athleisure, boho, businesscasual, casual, classic, edgy, glam, modern                     8142\n",
              "androgynous, athleisure, boho, businesscasual, casual, classic, edgy, glam, modern, retro, romantic    1384\n",
              "androgynous, athleisure, boho, businesscasual, casual, classic, edgy, glam                             1096\n",
              "androgynous, athleisure, boho, businesscasual, casual, classic, edgy                                     86\n",
              "athleisure, boho, businesscasual, casual, classic, glam                                                  50\n",
              "athleisure, boho, glam                                                                                   20\n",
              "athleisure, boho, businesscasual, casual, classic, edgy, glam                                            18\n",
              "athleisure, boho, classic, glam                                                                          15\n",
              "androgynous, athleisure, boho, businesscasual, casual, classic, glam                                     14\n",
              "androgynous, athleisure, boho, casual, classic, edgy                                                     14\n",
              "androgynous, athleisure, boho, casual, classic, edgy, glam                                                8\n",
              "athleisure, boho, businesscasual, classic, glam                                                           7\n",
              "androgynous, athleisure, boho, casual, classic, glam                                                      7\n",
              "androgynous, athleisure, boho, classic, glam                                                              6\n",
              "athleisure, boho, casual, classic, glam                                                                   5\n",
              "athleisure, boho, businesscasual, classic, edgy, glam                                                     3\n",
              "athleisure                                                                                                3\n",
              "androgynous, athleisure, boho, businesscasual, casual, classic, edgy, modern                              3\n",
              "boho, classic                                                                                             2\n",
              "boho, glam                                                                                                2\n",
              "athleisure, boho, businesscasual, casual, glam                                                            2\n",
              "Name: attribute_value, dtype: int64"
            ]
          },
          "metadata": {
            "tags": []
          },
          "execution_count": 25
        }
      ]
    }
  ]
}