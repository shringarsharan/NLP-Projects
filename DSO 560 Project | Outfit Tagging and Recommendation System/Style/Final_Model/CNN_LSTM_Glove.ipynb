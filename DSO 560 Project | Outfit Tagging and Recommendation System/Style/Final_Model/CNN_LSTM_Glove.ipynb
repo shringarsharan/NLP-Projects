{
  "nbformat": 4,
  "nbformat_minor": 0,
  "metadata": {
    "colab": {
      "name": "Copy of Model_V5.ipynb",
      "provenance": []
    },
    "kernelspec": {
      "name": "python3",
      "display_name": "Python 3"
    },
    "accelerator": "GPU"
  },
  "cells": [
    {
      "cell_type": "code",
      "metadata": {
        "id": "vvLHOmMukGGN",
        "colab_type": "code",
        "colab": {}
      },
      "source": [
        "#from google.colab import drive\n",
        "#drive.mount('/content/drive')"
      ],
      "execution_count": 0,
      "outputs": []
    },
    {
      "cell_type": "code",
      "metadata": {
        "id": "4Pxdph9JB-dG",
        "colab_type": "code",
        "colab": {}
      },
      "source": [
        "#!pip install -U imbalanced-learn"
      ],
      "execution_count": 0,
      "outputs": []
    },
    {
      "cell_type": "code",
      "metadata": {
        "id": "OZMWoVO4kknG",
        "colab_type": "code",
        "colab": {}
      },
      "source": [
        "import pandas as pd\n",
        "import numpy as np\n",
        "import pickle\n",
        "from keras.preprocessing.text import Tokenizer\n",
        "from keras.preprocessing.sequence import pad_sequences\n",
        "from keras.preprocessing.sequence import pad_sequences\n",
        "from keras.models import Model, Sequential \n",
        "from keras.layers import Input, Masking\n",
        "from keras.layers import Dense, Input, Reshape\n",
        "from keras.layers import Dropout, Activation\n",
        "from keras.layers import Dense, GlobalAveragePooling1D, Activation\n",
        "from keras.layers import Flatten\n",
        "from keras.layers import Dropout\n",
        "from keras.layers import LSTM, SimpleRNN\n",
        "from keras.layers import Embedding\n",
        "import keras.backend as K \n",
        "from imblearn.combine import SMOTETomek\n",
        "from sklearn.model_selection import train_test_split\n",
        "from keras.optimizers import Adam\n",
        "from keras.layers.convolutional import Conv1D\n",
        "from keras.layers.merge import concatenate\n",
        "from keras.layers.convolutional import MaxPooling1D\n",
        "from sklearn.feature_extraction.text import TfidfVectorizer\n",
        "from gensim.models.phrases import Phraser, Phrases\n",
        "import re \n",
        "from gensim.parsing.preprocessing import remove_stopwords\n",
        "import spacy\n",
        "nlp = spacy.load('en_core_web_sm', disable=['parser', 'ner'])"
      ],
      "execution_count": 0,
      "outputs": []
    },
    {
      "cell_type": "code",
      "metadata": {
        "id": "1J88vxQgkvZY",
        "colab_type": "code",
        "outputId": "6f5cbb02-b126-43e7-fbb0-5b18950982bb",
        "colab": {
          "base_uri": "https://localhost:8080/",
          "height": 53
        }
      },
      "source": [
        "%%time\n",
        "# reading the data\n",
        "df = pd.read_csv('/content/drive/Shared drives/DSO 560 NLP Project/data.csv')\n",
        "# creating a subset of the relevant attribute name and then dropping the column\n",
        "df = df[df['attribute_name'] == 'style'].drop(columns = ['attribute_name'])\n",
        "# combining similar category attribute values and removing spaces\n",
        "df['attribute_value'] = df['attribute_value'].apply(lambda x: 'businesscasual' if x == 'business casual' else x)"
      ],
      "execution_count": 0,
      "outputs": [
        {
          "output_type": "stream",
          "text": [
            "CPU times: user 416 ms, sys: 73.5 ms, total: 489 ms\n",
            "Wall time: 546 ms\n"
          ],
          "name": "stdout"
        }
      ]
    },
    {
      "cell_type": "code",
      "metadata": {
        "id": "vyu18_culshy",
        "colab_type": "code",
        "outputId": "6077fb91-9595-4ced-dab7-095286177e35",
        "colab": {
          "base_uri": "https://localhost:8080/",
          "height": 328
        }
      },
      "source": [
        "df.head()"
      ],
      "execution_count": 0,
      "outputs": [
        {
          "output_type": "execute_result",
          "data": {
            "text/html": [
              "<div>\n",
              "<style scoped>\n",
              "    .dataframe tbody tr th:only-of-type {\n",
              "        vertical-align: middle;\n",
              "    }\n",
              "\n",
              "    .dataframe tbody tr th {\n",
              "        vertical-align: top;\n",
              "    }\n",
              "\n",
              "    .dataframe thead th {\n",
              "        text-align: right;\n",
              "    }\n",
              "</style>\n",
              "<table border=\"1\" class=\"dataframe\">\n",
              "  <thead>\n",
              "    <tr style=\"text-align: right;\">\n",
              "      <th></th>\n",
              "      <th>product_id</th>\n",
              "      <th>brand</th>\n",
              "      <th>product_full_name</th>\n",
              "      <th>description</th>\n",
              "      <th>brand_category</th>\n",
              "      <th>attribute_value</th>\n",
              "      <th>details</th>\n",
              "    </tr>\n",
              "  </thead>\n",
              "  <tbody>\n",
              "    <tr>\n",
              "      <th>0</th>\n",
              "      <td>01DPGV4YRP3Z8J85DASGZ1Y99W</td>\n",
              "      <td>frame</td>\n",
              "      <td>les second medium noir</td>\n",
              "      <td>minimal , modern styling meet refined luxury l...</td>\n",
              "      <td>accessory</td>\n",
              "      <td>casual</td>\n",
              "      <td>NaN</td>\n",
              "    </tr>\n",
              "    <tr>\n",
              "      <th>5</th>\n",
              "      <td>01DPH1DEN9G2WM7WAMJMD0A9W4</td>\n",
              "      <td>j crew</td>\n",
              "      <td>tie waist shirtdress stripe</td>\n",
              "      <td>take classic button silhouette turn ultra flat...</td>\n",
              "      <td>dressesandjumpsuits</td>\n",
              "      <td>casual</td>\n",
              "      <td>NaN</td>\n",
              "    </tr>\n",
              "    <tr>\n",
              "      <th>12</th>\n",
              "      <td>01E2KYW52BAG606GQ7A9H5R0KD</td>\n",
              "      <td>alo</td>\n",
              "      <td>interval microfleece pullover hoodie</td>\n",
              "      <td>articulate seam extra wide rib hem create shap...</td>\n",
              "      <td>unknown</td>\n",
              "      <td>casual</td>\n",
              "      <td>xs 0 2 , s 4 6 , m 8 10 , l 12 14</td>\n",
              "    </tr>\n",
              "    <tr>\n",
              "      <th>13</th>\n",
              "      <td>01DT513RRYT3SKH6X25G5VCH6B</td>\n",
              "      <td>chlo</td>\n",
              "      <td>leather ankle boot</td>\n",
              "      <td>heel measure approximately 55 mm 2 inch 30 mm ...</td>\n",
              "      <td>shoe boots ankle</td>\n",
              "      <td>androgynous</td>\n",
              "      <td>fit small size , size large normal available s...</td>\n",
              "    </tr>\n",
              "    <tr>\n",
              "      <th>20</th>\n",
              "      <td>01E2KM0KW6NB1JKMZVRXR6H8G2</td>\n",
              "      <td>alo</td>\n",
              "      <td>stadium quarter zip hoodie</td>\n",
              "      <td>supersoft hoodie design elastic hem cuff perfe...</td>\n",
              "      <td>unknown</td>\n",
              "      <td>casual</td>\n",
              "      <td>xs 0 2 , s 4 6 , m 8 10 , l 12 14</td>\n",
              "    </tr>\n",
              "  </tbody>\n",
              "</table>\n",
              "</div>"
            ],
            "text/plain": [
              "                    product_id  ...                                            details\n",
              "0   01DPGV4YRP3Z8J85DASGZ1Y99W  ...                                                NaN\n",
              "5   01DPH1DEN9G2WM7WAMJMD0A9W4  ...                                                NaN\n",
              "12  01E2KYW52BAG606GQ7A9H5R0KD  ...                  xs 0 2 , s 4 6 , m 8 10 , l 12 14\n",
              "13  01DT513RRYT3SKH6X25G5VCH6B  ...  fit small size , size large normal available s...\n",
              "20  01E2KM0KW6NB1JKMZVRXR6H8G2  ...                  xs 0 2 , s 4 6 , m 8 10 , l 12 14\n",
              "\n",
              "[5 rows x 7 columns]"
            ]
          },
          "metadata": {
            "tags": []
          },
          "execution_count": 5
        }
      ]
    },
    {
      "cell_type": "code",
      "metadata": {
        "id": "4KCfa3CVn9nY",
        "colab_type": "code",
        "colab": {}
      },
      "source": [
        "# creating a feature combining brand, productname, description and brand category\n",
        "df['text'] = (df['brand'] + ' ' + df['product_full_name'] + ' ' + df['description'] + ' ' + df['brand_category']).apply(str)"
      ],
      "execution_count": 0,
      "outputs": []
    },
    {
      "cell_type": "code",
      "metadata": {
        "id": "WMi2ULgelhFo",
        "colab_type": "code",
        "colab": {}
      },
      "source": [
        "# the predictor 'text' is assigned to 'X' and the 'attribute_value' t 'y'\n",
        "X = df['text'].values\n",
        "# one-hot-encoding the y variable\n",
        "y = pd.get_dummies(df['attribute_value'])\n",
        "label_list = y.columns\n",
        "y = y.values"
      ],
      "execution_count": 0,
      "outputs": []
    },
    {
      "cell_type": "code",
      "metadata": {
        "id": "0YFmF01NwQGo",
        "colab_type": "code",
        "colab": {}
      },
      "source": [
        "# tokenizing the data and integer encoding it\n",
        "tokenizer = Tokenizer(num_words=5000, oov_token=\"UNKNOWN_TOKEN\")\n",
        "tokenizer.fit_on_texts(X)"
      ],
      "execution_count": 0,
      "outputs": []
    },
    {
      "cell_type": "code",
      "metadata": {
        "id": "5oETme721eAP",
        "colab_type": "code",
        "colab": {}
      },
      "source": [
        "# running the tokenizer function on features\n",
        "X = tokenizer.texts_to_sequences(X)"
      ],
      "execution_count": 0,
      "outputs": []
    },
    {
      "cell_type": "code",
      "metadata": {
        "id": "_IMFmGLi6sUH",
        "colab_type": "code",
        "colab": {}
      },
      "source": [
        "# getting vocab size and length for input\n",
        "length = max([len(s.split()) for s in df['text']])\n",
        "vocab_size = len(tokenizer.word_index) + 1"
      ],
      "execution_count": 0,
      "outputs": []
    },
    {
      "cell_type": "code",
      "metadata": {
        "id": "jHn0BxkM6zbH",
        "colab_type": "code",
        "colab": {}
      },
      "source": [
        "# padding the data to make it same size (max size)\n",
        "X = pad_sequences(X, maxlen=length, padding='post')"
      ],
      "execution_count": 0,
      "outputs": []
    },
    {
      "cell_type": "code",
      "metadata": {
        "id": "Ae88zjZ9CZye",
        "colab_type": "code",
        "colab": {}
      },
      "source": [
        "# splitting training and testing data\n",
        "X_train, X_test, y_train, y_test = train_test_split(X, y, test_size = 0.1, random_state = 42)"
      ],
      "execution_count": 0,
      "outputs": []
    },
    {
      "cell_type": "code",
      "metadata": {
        "id": "VDwRtJkSBvxp",
        "colab_type": "code",
        "colab": {}
      },
      "source": [
        "# balancing the dataset to account for disproportionate of labels\n",
        "resampler = SMOTETomek(sampling_strategy = 'auto')\n",
        "X_train, y_train = resampler.fit_resample(X_train, y_train)"
      ],
      "execution_count": 0,
      "outputs": []
    },
    {
      "cell_type": "code",
      "metadata": {
        "id": "XNTeR6ZRoxcL",
        "colab_type": "code",
        "colab": {}
      },
      "source": [
        "num_classes = y.shape[1]"
      ],
      "execution_count": 0,
      "outputs": []
    },
    {
      "cell_type": "code",
      "metadata": {
        "id": "8F-6edne7CKl",
        "colab_type": "code",
        "outputId": "38f8ab31-119b-4b7c-c3dc-d4f9b09dc749",
        "colab": {
          "base_uri": "https://localhost:8080/",
          "height": 35
        }
      },
      "source": [
        "# using glove vector to create function that makes word emebeddings\n",
        "def load_glove_vectors():\n",
        "    embeddings_index = {}\n",
        "    with open('/content/drive/My Drive/NLP/glove.6B.100d.txt') as f:\n",
        "        for line in f:\n",
        "            values = line.split()\n",
        "            word = values[0]\n",
        "            coefs = np.asarray(values[1:], dtype='float32')\n",
        "            embeddings_index[word] = coefs\n",
        "    print('Loaded %s word vectors.' % len(embeddings_index))\n",
        "    return embeddings_index\n",
        "\n",
        "\n",
        "embeddings_index = load_glove_vectors()"
      ],
      "execution_count": 0,
      "outputs": [
        {
          "output_type": "stream",
          "text": [
            "Loaded 400000 word vectors.\n"
          ],
          "name": "stdout"
        }
      ]
    },
    {
      "cell_type": "code",
      "metadata": {
        "id": "Cm2saCqq7B6t",
        "colab_type": "code",
        "colab": {}
      },
      "source": [
        "# create a weight matrix for words in training docs\n",
        "embedding_matrix = np.zeros((vocab_size, 100))\n",
        "for word, i in tokenizer.word_index.items():\n",
        "    embedding_vector = embeddings_index.get(word)\n",
        "    if embedding_vector is not None: # check that it is an actual word that we have embeddings for\n",
        "        embedding_matrix[i] = embedding_vector"
      ],
      "execution_count": 0,
      "outputs": []
    },
    {
      "cell_type": "code",
      "metadata": {
        "id": "GcWVkLPD7Bq6",
        "colab_type": "code",
        "colab": {}
      },
      "source": [
        "# creating an LSTM CNN model\n",
        "def define_model():\n",
        "    \n",
        "    model = Sequential()\n",
        "    model.add(Embedding(vocab_size, 100, weights=[embedding_matrix], input_length=length, trainable=False))\n",
        "    #model.add(Masking(mask_value=0.0)) # masking layer, masks any words that don't have an embedding as 0s.\n",
        "    model.add(LSTM(128, return_sequences=True, dropout=0.2, recurrent_dropout=0.15, activation = 'relu'))\n",
        "    model.add(LSTM(128, return_sequences=True, dropout=0.2, recurrent_dropout=0.15, activation = 'relu'))\n",
        "    model.add(MaxPooling1D(pool_size=2))\n",
        "\n",
        "    model.add(Conv1D(filters=64, kernel_size=10, padding='same', activation = 'relu'))\n",
        "    model.add(Conv1D(filters=64, kernel_size=10, padding='same', activation = 'relu'))\n",
        "    model.add(MaxPooling1D(pool_size=2))\n",
        "\n",
        "    model.add(LSTM(128, return_sequences=False, dropout=0.2, recurrent_dropout=0.15, activation = 'relu'))\n",
        "\n",
        "    model.add(Dense(32, activation = 'relu'))\n",
        "    model.add(Dense(num_classes))\n",
        "    model.add(Activation('sigmoid'))\n",
        "    \n",
        "    # Compile the model\n",
        "    model.compile(\n",
        "    optimizer='adam', loss='binary_crossentropy', metrics=['accuracy'])\n",
        "    \n",
        "    return model"
      ],
      "execution_count": 0,
      "outputs": []
    },
    {
      "cell_type": "code",
      "metadata": {
        "id": "WtVkDeU4pOFw",
        "colab_type": "code",
        "outputId": "6a7084c3-9952-43be-8d38-44da38a8ba25",
        "colab": {
          "base_uri": "https://localhost:8080/",
          "height": 562
        }
      },
      "source": [
        "model = define_model()\n",
        "model.summary()"
      ],
      "execution_count": 0,
      "outputs": [
        {
          "output_type": "stream",
          "text": [
            "Model: \"sequential_1\"\n",
            "_________________________________________________________________\n",
            "Layer (type)                 Output Shape              Param #   \n",
            "=================================================================\n",
            "embedding_1 (Embedding)      (None, 155, 100)          611400    \n",
            "_________________________________________________________________\n",
            "lstm_1 (LSTM)                (None, 155, 128)          117248    \n",
            "_________________________________________________________________\n",
            "lstm_2 (LSTM)                (None, 155, 128)          131584    \n",
            "_________________________________________________________________\n",
            "max_pooling1d_1 (MaxPooling1 (None, 77, 128)           0         \n",
            "_________________________________________________________________\n",
            "conv1d_1 (Conv1D)            (None, 77, 64)            81984     \n",
            "_________________________________________________________________\n",
            "conv1d_2 (Conv1D)            (None, 77, 64)            41024     \n",
            "_________________________________________________________________\n",
            "max_pooling1d_2 (MaxPooling1 (None, 38, 64)            0         \n",
            "_________________________________________________________________\n",
            "lstm_3 (LSTM)                (None, 128)               98816     \n",
            "_________________________________________________________________\n",
            "dense_1 (Dense)              (None, 32)                4128      \n",
            "_________________________________________________________________\n",
            "dense_2 (Dense)              (None, 11)                363       \n",
            "_________________________________________________________________\n",
            "activation_1 (Activation)    (None, 11)                0         \n",
            "=================================================================\n",
            "Total params: 1,086,547\n",
            "Trainable params: 475,147\n",
            "Non-trainable params: 611,400\n",
            "_________________________________________________________________\n"
          ],
          "name": "stdout"
        }
      ]
    },
    {
      "cell_type": "code",
      "metadata": {
        "id": "wfeN4H1XpRvM",
        "colab_type": "code",
        "outputId": "80343512-eff6-4405-9edc-ab412b01d2e2",
        "colab": {
          "base_uri": "https://localhost:8080/",
          "height": 437
        }
      },
      "source": [
        "# fitting model on training data\n",
        "model.fit(X_train, y_train, validation_split=0.2, epochs=10, batch_size=512)"
      ],
      "execution_count": 0,
      "outputs": [
        {
          "output_type": "stream",
          "text": [
            "Train on 20366 samples, validate on 5092 samples\n",
            "Epoch 1/10\n",
            "20366/20366 [==============================] - 46s 2ms/step - loss: 0.4694 - accuracy: 0.8960 - val_loss: 0.3636 - val_accuracy: 0.9091\n",
            "Epoch 2/10\n",
            "20366/20366 [==============================] - 40s 2ms/step - loss: 0.3016 - accuracy: 0.9091 - val_loss: 0.4353 - val_accuracy: 0.9091\n",
            "Epoch 3/10\n",
            "20366/20366 [==============================] - 42s 2ms/step - loss: 0.2958 - accuracy: 0.9091 - val_loss: 0.4327 - val_accuracy: 0.9091\n",
            "Epoch 4/10\n",
            "20366/20366 [==============================] - 43s 2ms/step - loss: 0.2951 - accuracy: 0.9091 - val_loss: 0.4349 - val_accuracy: 0.9091\n",
            "Epoch 5/10\n",
            "20366/20366 [==============================] - 40s 2ms/step - loss: 0.2945 - accuracy: 0.9091 - val_loss: 0.4271 - val_accuracy: 0.9091\n",
            "Epoch 6/10\n",
            "20366/20366 [==============================] - 41s 2ms/step - loss: 0.2942 - accuracy: 0.9091 - val_loss: 0.4343 - val_accuracy: 0.9091\n",
            "Epoch 7/10\n",
            "20366/20366 [==============================] - 42s 2ms/step - loss: 0.2938 - accuracy: 0.9091 - val_loss: 0.4389 - val_accuracy: 0.9091\n",
            "Epoch 8/10\n",
            "20366/20366 [==============================] - 42s 2ms/step - loss: 0.2933 - accuracy: 0.9091 - val_loss: 0.4379 - val_accuracy: 0.9091\n",
            "Epoch 9/10\n",
            "20366/20366 [==============================] - 45s 2ms/step - loss: 0.2934 - accuracy: 0.9091 - val_loss: 0.4317 - val_accuracy: 0.9091\n",
            "Epoch 10/10\n",
            "20366/20366 [==============================] - 42s 2ms/step - loss: 0.2942 - accuracy: 0.9091 - val_loss: 0.4374 - val_accuracy: 0.9091\n"
          ],
          "name": "stdout"
        },
        {
          "output_type": "execute_result",
          "data": {
            "text/plain": [
              "<keras.callbacks.callbacks.History at 0x7f66641da2e8>"
            ]
          },
          "metadata": {
            "tags": []
          },
          "execution_count": 19
        }
      ]
    },
    {
      "cell_type": "code",
      "metadata": {
        "id": "RH0rgY1WChE4",
        "colab_type": "code",
        "outputId": "95ad84c1-f3e2-4b1f-93b1-b71c98e85dc6",
        "colab": {
          "base_uri": "https://localhost:8080/",
          "height": 53
        }
      },
      "source": [
        "# evaluating model\n",
        "model.evaluate(X_test, y_test)"
      ],
      "execution_count": 0,
      "outputs": [
        {
          "output_type": "stream",
          "text": [
            "1089/1089 [==============================] - 3s 2ms/step\n"
          ],
          "name": "stdout"
        },
        {
          "output_type": "execute_result",
          "data": {
            "text/plain": [
              "[0.301320913901999, 0.909090518951416]"
            ]
          },
          "metadata": {
            "tags": []
          },
          "execution_count": 20
        }
      ]
    },
    {
      "cell_type": "code",
      "metadata": {
        "id": "ythmDKKlpjsc",
        "colab_type": "code",
        "colab": {}
      },
      "source": [
        "# making predictions\n",
        "results = model.predict(X)"
      ],
      "execution_count": 0,
      "outputs": []
    },
    {
      "cell_type": "code",
      "metadata": {
        "id": "Xjn1GCho_snJ",
        "colab_type": "code",
        "colab": {}
      },
      "source": [
        "results_df = pd.DataFrame()\n",
        "results_mask = results > 0.1\n",
        "for i in range(len(label_list)):\n",
        "    results_df[label_list[i]] = results_mask[:,i]\n",
        "    results_df[label_list[i]] = results_df[label_list[i]].apply(int)"
      ],
      "execution_count": 0,
      "outputs": []
    },
    {
      "cell_type": "code",
      "metadata": {
        "id": "5WsQqrmxprsc",
        "colab_type": "code",
        "outputId": "6f6c3dff-c398-448f-9335-788bdda6ffd0",
        "colab": {
          "base_uri": "https://localhost:8080/",
          "height": 35
        }
      },
      "source": [
        "results_df['sum']  = 0\n",
        "for key in label_list:\n",
        "    results_df['sum'] = results_df['sum'] + results_df[key]\n",
        "(results_df['sum'] == 0).sum()"
      ],
      "execution_count": 0,
      "outputs": [
        {
          "output_type": "execute_result",
          "data": {
            "text/plain": [
              "0"
            ]
          },
          "metadata": {
            "tags": []
          },
          "execution_count": 23
        }
      ]
    },
    {
      "cell_type": "code",
      "metadata": {
        "id": "BmfNQQbrqhhc",
        "colab_type": "code",
        "outputId": "660da7f7-bb59-4c07-d21a-2efbcdf2bacc",
        "colab": {
          "base_uri": "https://localhost:8080/",
          "height": 293
        }
      },
      "source": [
        "results_df = results_df.drop(columns = ['sum'])\n",
        "for key in label_list:\n",
        "    results_df[key] = results_df[key].apply(lambda x: key if x == 1 else '')\n",
        "\n",
        "results_df['attribute_value'] = ''\n",
        "for key in label_list:\n",
        "    results_df['attribute_value'] = results_df['attribute_value'] + ' ' + results_df[key]\n",
        "\n",
        "results_df['attribute_value'] = results_df['attribute_value'].apply(lambda x: ', '.join(x.split()))\n",
        "results_df.head()"
      ],
      "execution_count": 0,
      "outputs": [
        {
          "output_type": "execute_result",
          "data": {
            "text/html": [
              "<div>\n",
              "<style scoped>\n",
              "    .dataframe tbody tr th:only-of-type {\n",
              "        vertical-align: middle;\n",
              "    }\n",
              "\n",
              "    .dataframe tbody tr th {\n",
              "        vertical-align: top;\n",
              "    }\n",
              "\n",
              "    .dataframe thead th {\n",
              "        text-align: right;\n",
              "    }\n",
              "</style>\n",
              "<table border=\"1\" class=\"dataframe\">\n",
              "  <thead>\n",
              "    <tr style=\"text-align: right;\">\n",
              "      <th></th>\n",
              "      <th>androgynous</th>\n",
              "      <th>athleisure</th>\n",
              "      <th>boho</th>\n",
              "      <th>businesscasual</th>\n",
              "      <th>casual</th>\n",
              "      <th>classic</th>\n",
              "      <th>edgy</th>\n",
              "      <th>glam</th>\n",
              "      <th>modern</th>\n",
              "      <th>retro</th>\n",
              "      <th>romantic</th>\n",
              "      <th>attribute_value</th>\n",
              "    </tr>\n",
              "  </thead>\n",
              "  <tbody>\n",
              "    <tr>\n",
              "      <th>0</th>\n",
              "      <td>androgynous</td>\n",
              "      <td>athleisure</td>\n",
              "      <td>boho</td>\n",
              "      <td>businesscasual</td>\n",
              "      <td>casual</td>\n",
              "      <td>classic</td>\n",
              "      <td>edgy</td>\n",
              "      <td></td>\n",
              "      <td></td>\n",
              "      <td></td>\n",
              "      <td></td>\n",
              "      <td>androgynous, athleisure, boho, businesscasual,...</td>\n",
              "    </tr>\n",
              "    <tr>\n",
              "      <th>1</th>\n",
              "      <td>androgynous</td>\n",
              "      <td>athleisure</td>\n",
              "      <td>boho</td>\n",
              "      <td>businesscasual</td>\n",
              "      <td>casual</td>\n",
              "      <td>classic</td>\n",
              "      <td>edgy</td>\n",
              "      <td></td>\n",
              "      <td></td>\n",
              "      <td></td>\n",
              "      <td></td>\n",
              "      <td>androgynous, athleisure, boho, businesscasual,...</td>\n",
              "    </tr>\n",
              "    <tr>\n",
              "      <th>2</th>\n",
              "      <td>androgynous</td>\n",
              "      <td>athleisure</td>\n",
              "      <td>boho</td>\n",
              "      <td>businesscasual</td>\n",
              "      <td>casual</td>\n",
              "      <td>classic</td>\n",
              "      <td>edgy</td>\n",
              "      <td></td>\n",
              "      <td></td>\n",
              "      <td></td>\n",
              "      <td></td>\n",
              "      <td>androgynous, athleisure, boho, businesscasual,...</td>\n",
              "    </tr>\n",
              "    <tr>\n",
              "      <th>3</th>\n",
              "      <td>androgynous</td>\n",
              "      <td>athleisure</td>\n",
              "      <td>boho</td>\n",
              "      <td>businesscasual</td>\n",
              "      <td>casual</td>\n",
              "      <td>classic</td>\n",
              "      <td>edgy</td>\n",
              "      <td></td>\n",
              "      <td></td>\n",
              "      <td></td>\n",
              "      <td></td>\n",
              "      <td>androgynous, athleisure, boho, businesscasual,...</td>\n",
              "    </tr>\n",
              "    <tr>\n",
              "      <th>4</th>\n",
              "      <td>androgynous</td>\n",
              "      <td>athleisure</td>\n",
              "      <td>boho</td>\n",
              "      <td>businesscasual</td>\n",
              "      <td>casual</td>\n",
              "      <td>classic</td>\n",
              "      <td>edgy</td>\n",
              "      <td></td>\n",
              "      <td></td>\n",
              "      <td></td>\n",
              "      <td></td>\n",
              "      <td>androgynous, athleisure, boho, businesscasual,...</td>\n",
              "    </tr>\n",
              "  </tbody>\n",
              "</table>\n",
              "</div>"
            ],
            "text/plain": [
              "   androgynous  ...                                    attribute_value\n",
              "0  androgynous  ...  androgynous, athleisure, boho, businesscasual,...\n",
              "1  androgynous  ...  androgynous, athleisure, boho, businesscasual,...\n",
              "2  androgynous  ...  androgynous, athleisure, boho, businesscasual,...\n",
              "3  androgynous  ...  androgynous, athleisure, boho, businesscasual,...\n",
              "4  androgynous  ...  androgynous, athleisure, boho, businesscasual,...\n",
              "\n",
              "[5 rows x 12 columns]"
            ]
          },
          "metadata": {
            "tags": []
          },
          "execution_count": 24
        }
      ]
    },
    {
      "cell_type": "code",
      "metadata": {
        "id": "kBsLjXEzyvys",
        "colab_type": "code",
        "outputId": "733e2234-b01a-487f-c28f-5c7a935ccc37",
        "colab": {
          "base_uri": "https://localhost:8080/",
          "height": 72
        }
      },
      "source": [
        "results_df['attribute_value'].value_counts()"
      ],
      "execution_count": 0,
      "outputs": [
        {
          "output_type": "execute_result",
          "data": {
            "text/plain": [
              "androgynous, athleisure, boho, businesscasual, casual, classic, edgy          10884\n",
              "androgynous, athleisure, boho, businesscasual, casual, classic, edgy, glam        3\n",
              "Name: attribute_value, dtype: int64"
            ]
          },
          "metadata": {
            "tags": []
          },
          "execution_count": 25
        }
      ]
    },
    {
      "cell_type": "code",
      "metadata": {
        "id": "0SYTGCgubeV3",
        "colab_type": "code",
        "colab": {}
      },
      "source": [
        "with open('tokenizer.pickle', 'wb') as handle:\n",
        "    pickle.dump(tokenizer, handle, protocol=pickle.HIGHEST_PROTOCOL)\n",
        "with open('model.pickle', 'wb') as handle:\n",
        "    pickle.dump(model, handle, protocol=pickle.HIGHEST_PROTOCOL)"
      ],
      "execution_count": 0,
      "outputs": []
    },
    {
      "cell_type": "code",
      "metadata": {
        "id": "6OnCwLeTX5ks",
        "colab_type": "code",
        "colab": {}
      },
      "source": [
        "def get_style(brand, product_full_name, description, details, brand_category):\n",
        "    def clean_text(x):\n",
        "        try:\n",
        "            x = re.sub(r'<.*?>', '',x)\n",
        "            x = re.sub(r\"[^A-Za-z0-9(),!?\\'\\`]\", \" \", x)\n",
        "            x = re.sub(r\"\\'s\", \" \\'s\", x)\n",
        "            x = re.sub(r\"\\'ve\", \" \\'ve\", x)\n",
        "            x = re.sub(r\"n\\'t\", \" n\\'t\", x)\n",
        "            x = re.sub(r\"\\'re\", \" \\'re\", x)\n",
        "            x = re.sub(r\"\\'d\", \" \\'d\", x)\n",
        "            x = re.sub(r\"\\'ll\", \" \\'ll\", x)\n",
        "            x = re.sub(r\",\", \" , \", x)\n",
        "            x = re.sub(r\"!\", \" ! \", x)\n",
        "            x = re.sub(r\"\\(\", \"\", x)\n",
        "            x = re.sub(r\"\\)\", \"\", x)\n",
        "            x = re.sub(r\"\\?\", \"\", x)\n",
        "            x = re.sub(r\"/\", \"\", x)\n",
        "            x = re.sub(r\"\\s{2,}\", \" \", x)\n",
        "            return x.lower()\n",
        "        except:\n",
        "            return ''\n",
        "\n",
        "    def lemmatizer(x):\n",
        "        return ' '.join([token.lemma_ for token in nlp(x)])\n",
        "        \n",
        "    with open('tokenizer.pickle', 'rb') as handle:\n",
        "        tokenizer = pickle.load(handle)\n",
        "    with open('model.pickle', 'rb') as handle:\n",
        "        model = pickle.load(handle)\n",
        "\n",
        "    data = pd.DataFrame({'brand':brand,'product_full_name':product_full_name,'description':description,'details':details,'brand_category':brand_category},index=[0]) \n",
        "    df = data.copy()\n",
        "    for key in df.columns:\n",
        "        df[key] = df[key].apply(clean_text)\n",
        "        df[key] = df[key].apply(remove_stopwords)\n",
        "        df[key] = df[key].apply(lemmatizer)\n",
        "        df[key] = df[key].apply(clean_text)\n",
        "        df[key] = df[key].apply(remove_stopwords)\n",
        "    df['text'] = (df['brand'] + ' ' + df['product_full_name'] + ' ' + df['description'] + ' ' + df['brand_category'] + ' ' + df['details']).apply(str)\n",
        "    X = df['text'].values\n",
        "    X = tokenizer.texts_to_sequences(X)\n",
        "    X = pad_sequences(X, maxlen=length, padding='post')\n",
        "    results = model.predict(X)\n",
        "    results_df = pd.DataFrame()\n",
        "    results_mask = results > 0.1\n",
        "    for i in range(len(label_list)):\n",
        "        results_df[label_list[i]] = results_mask[:,i]\n",
        "        results_df[label_list[i]] = results_df[label_list[i]].apply(int)\n",
        "    results_df['sum']  = 0\n",
        "    for key in label_list:\n",
        "        results_df['sum'] = results_df['sum'] + results_df[key]\n",
        "    (results_df['sum'] == 0).sum()\n",
        "    results_df = results_df.drop(columns = ['sum'])\n",
        "    for key in label_list:\n",
        "        results_df[key] = results_df[key].apply(lambda x: key if x == 1 else '')\n",
        "\n",
        "    results_df['attribute_value'] = ''\n",
        "    for key in label_list:\n",
        "        results_df['attribute_value'] = results_df['attribute_value'] + ' ' + results_df[key]\n",
        "\n",
        "    results_df['attribute_value'] = results_df['attribute_value'].apply(lambda x: ', '.join(x.split()))\n",
        "    data['attribute_value'] = results_df['attribute_value']\n",
        "    return data"
      ],
      "execution_count": 0,
      "outputs": []
    },
    {
      "cell_type": "code",
      "metadata": {
        "id": "G3FkJfgQaXJE",
        "colab_type": "code",
        "colab": {}
      },
      "source": [
        "brand = \"frame\"\n",
        "product_full_name = \"les second medium noir\"\n",
        "description = \"'minimal , modern styling meet refined luxury les second caba tote craft exquisite leather , structured handbag equip adjustable high polish peg buttonhole double drop handle , center welt seam , detachable pouch , frame logo discreetly emboss'\"\n",
        "details = np.nan\n",
        "brand_category = 'accessory'"
      ],
      "execution_count": 0,
      "outputs": []
    },
    {
      "cell_type": "code",
      "metadata": {
        "id": "b-T3BnYHaclP",
        "colab_type": "code",
        "outputId": "930e38da-b2b6-472a-f58d-f6b2b4b9448b",
        "colab": {
          "base_uri": "https://localhost:8080/",
          "height": 81
        }
      },
      "source": [
        "get_style(brand, product_full_name, description, details, brand_category)"
      ],
      "execution_count": 0,
      "outputs": [
        {
          "output_type": "execute_result",
          "data": {
            "text/html": [
              "<div>\n",
              "<style scoped>\n",
              "    .dataframe tbody tr th:only-of-type {\n",
              "        vertical-align: middle;\n",
              "    }\n",
              "\n",
              "    .dataframe tbody tr th {\n",
              "        vertical-align: top;\n",
              "    }\n",
              "\n",
              "    .dataframe thead th {\n",
              "        text-align: right;\n",
              "    }\n",
              "</style>\n",
              "<table border=\"1\" class=\"dataframe\">\n",
              "  <thead>\n",
              "    <tr style=\"text-align: right;\">\n",
              "      <th></th>\n",
              "      <th>brand</th>\n",
              "      <th>product_full_name</th>\n",
              "      <th>description</th>\n",
              "      <th>details</th>\n",
              "      <th>brand_category</th>\n",
              "      <th>attribute_value</th>\n",
              "    </tr>\n",
              "  </thead>\n",
              "  <tbody>\n",
              "    <tr>\n",
              "      <th>0</th>\n",
              "      <td>frame</td>\n",
              "      <td>les second medium noir</td>\n",
              "      <td>'minimal , modern styling meet refined luxury ...</td>\n",
              "      <td>NaN</td>\n",
              "      <td>accessory</td>\n",
              "      <td>androgynous, athleisure, boho, businesscasual,...</td>\n",
              "    </tr>\n",
              "  </tbody>\n",
              "</table>\n",
              "</div>"
            ],
            "text/plain": [
              "   brand  ...                                    attribute_value\n",
              "0  frame  ...  androgynous, athleisure, boho, businesscasual,...\n",
              "\n",
              "[1 rows x 6 columns]"
            ]
          },
          "metadata": {
            "tags": []
          },
          "execution_count": 51
        }
      ]
    }
  ]
}