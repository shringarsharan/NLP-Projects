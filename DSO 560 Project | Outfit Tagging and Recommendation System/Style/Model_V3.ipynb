{
  "nbformat": 4,
  "nbformat_minor": 0,
  "metadata": {
    "colab": {
      "name": "Model_V3.ipynb",
      "provenance": [],
      "mount_file_id": "1zjOUts9rSGbu4Fd4IQyRgPEnmFcGbeM0",
      "authorship_tag": "ABX9TyPcqmZDPiPadjj/zkeCI1Hc",
      "include_colab_link": true
    },
    "kernelspec": {
      "name": "python3",
      "display_name": "Python 3"
    },
    "accelerator": "GPU"
  },
  "cells": [
    {
      "cell_type": "markdown",
      "metadata": {
        "id": "view-in-github",
        "colab_type": "text"
      },
      "source": [
        "<a href=\"https://colab.research.google.com/github/shashank-r97/NLP/blob/master/Style/Model_V3.ipynb\" target=\"_parent\"><img src=\"https://colab.research.google.com/assets/colab-badge.svg\" alt=\"Open In Colab\"/></a>"
      ]
    },
    {
      "cell_type": "code",
      "metadata": {
        "id": "eznY04Cf-wT2",
        "colab_type": "code",
        "colab": {
          "base_uri": "https://localhost:8080/",
          "height": 35
        },
        "outputId": "98bbabb5-eccf-47c2-8582-cd0990b2edf1"
      },
      "source": [
        "import pandas as pd\n",
        "from sklearn.feature_extraction.text import TfidfVectorizer\n",
        "from sklearn.model_selection import train_test_split\n",
        "from keras.preprocessing.sequence import pad_sequences\n",
        "from keras.models import Model, Sequential \n",
        "from keras.layers import Input\n",
        "from keras.layers import Dense, GlobalAveragePooling1D, Activation\n",
        "from keras.layers import Flatten\n",
        "from keras.layers import Dropout\n",
        "from keras.layers import LSTM\n",
        "from keras.layers import Embedding\n",
        "from keras.optimizers import Adam\n",
        "from keras.layers.convolutional import Conv1D\n",
        "from keras.layers.merge import concatenate\n",
        "from keras.layers.convolutional import MaxPooling1D\n",
        "from sklearn.preprocessing import MultiLabelBinarizer\n",
        "from sklearn.preprocessing import StandardScaler"
      ],
      "execution_count": 1,
      "outputs": [
        {
          "output_type": "stream",
          "text": [
            "Using TensorFlow backend.\n"
          ],
          "name": "stderr"
        }
      ]
    },
    {
      "cell_type": "code",
      "metadata": {
        "id": "sok9WHKYNyOm",
        "colab_type": "code",
        "colab": {
          "base_uri": "https://localhost:8080/",
          "height": 235
        },
        "outputId": "35c86fc9-569c-4dde-e420-7345cdf3e672"
      },
      "source": [
        "df = pd.read_csv('/content/drive/Shared drives/DSO 560 NLP Project/data.csv')\n",
        "df = df[df['attribute_name'] == 'style'].drop(columns = ['attribute_name'])\n",
        "df['attribute_value'] = df['attribute_value'].apply(lambda x: 'businesscasual' if x == 'business casual' else x)\n",
        "df['attribute_value'].value_counts()"
      ],
      "execution_count": 2,
      "outputs": [
        {
          "output_type": "execute_result",
          "data": {
            "text/plain": [
              "casual            2633\n",
              "modern            1838\n",
              "classic           1488\n",
              "businesscasual    1484\n",
              "edgy               804\n",
              "androgynous        691\n",
              "romantic           558\n",
              "boho               468\n",
              "glam               423\n",
              "athleisure         280\n",
              "retro              220\n",
              "Name: attribute_value, dtype: int64"
            ]
          },
          "metadata": {
            "tags": []
          },
          "execution_count": 2
        }
      ]
    },
    {
      "cell_type": "code",
      "metadata": {
        "id": "t5u0zfrgNyqJ",
        "colab_type": "code",
        "colab": {}
      },
      "source": [
        "df = pd.get_dummies(df, columns=['attribute_value'])\n",
        "df = df.groupby(['product_id', 'brand', 'product_full_name', 'description', 'brand_category']).sum().reset_index()\n",
        "label_list = []\n",
        "for key in df.columns:\n",
        "    if 'attribute_value' in key:\n",
        "        df[key] = df[key].apply(lambda x: min(x, 1))\n",
        "        label_list.append(key)\n",
        "y = df[label_list].values\n",
        "num_classes = y.shape[1]"
      ],
      "execution_count": 0,
      "outputs": []
    },
    {
      "cell_type": "code",
      "metadata": {
        "id": "lyRflAazNymy",
        "colab_type": "code",
        "colab": {}
      },
      "source": [
        "X = df['brand'] + ' ' + df['product_full_name'] + ' ' + df['description'] + ' ' + df['brand_category']\n",
        "X = X.values"
      ],
      "execution_count": 0,
      "outputs": []
    },
    {
      "cell_type": "code",
      "metadata": {
        "id": "ZzchYprzA7bg",
        "colab_type": "code",
        "colab": {}
      },
      "source": [
        "vectorizer = TfidfVectorizer(max_features=500, min_df = 5, ngram_range = (1, 2))"
      ],
      "execution_count": 0,
      "outputs": []
    },
    {
      "cell_type": "code",
      "metadata": {
        "id": "qywRwHaaS6Zg",
        "colab_type": "code",
        "colab": {
          "base_uri": "https://localhost:8080/",
          "height": 35
        },
        "outputId": "35d2f83e-b010-4015-b9f1-c5625db08d00"
      },
      "source": [
        "len(vectorizer.vocabulary_)"
      ],
      "execution_count": 47,
      "outputs": [
        {
          "output_type": "execute_result",
          "data": {
            "text/plain": [
              "500"
            ]
          },
          "metadata": {
            "tags": []
          },
          "execution_count": 47
        }
      ]
    },
    {
      "cell_type": "code",
      "metadata": {
        "id": "ua54xpL1Bwsd",
        "colab_type": "code",
        "colab": {}
      },
      "source": [
        "X = vectorizer.fit_transform(X)"
      ],
      "execution_count": 0,
      "outputs": []
    },
    {
      "cell_type": "code",
      "metadata": {
        "id": "Cxsq2IpJLz5b",
        "colab_type": "code",
        "colab": {}
      },
      "source": [
        "scaler = StandardScaler( with_mean = False)\n",
        "X = scaler.fit_transform(X,)"
      ],
      "execution_count": 0,
      "outputs": []
    },
    {
      "cell_type": "code",
      "metadata": {
        "id": "hpwjANlqBz3a",
        "colab_type": "code",
        "colab": {
          "base_uri": "https://localhost:8080/",
          "height": 53
        },
        "outputId": "513a18a3-ea6e-470e-ff78-11641ac9a89a"
      },
      "source": [
        "X.reshape(-1,500)"
      ],
      "execution_count": 8,
      "outputs": [
        {
          "output_type": "execute_result",
          "data": {
            "text/plain": [
              "<3344x500 sparse matrix of type '<class 'numpy.float64'>'\n",
              "\twith 52631 stored elements in Compressed Sparse Row format>"
            ]
          },
          "metadata": {
            "tags": []
          },
          "execution_count": 8
        }
      ]
    },
    {
      "cell_type": "code",
      "metadata": {
        "id": "ySFrgOS2B0wz",
        "colab_type": "code",
        "colab": {}
      },
      "source": [
        "X_train, X_test, y_train, y_test = train_test_split(X, y, test_size = 0.1, random_state = 42)"
      ],
      "execution_count": 0,
      "outputs": []
    },
    {
      "cell_type": "code",
      "metadata": {
        "id": "MS59hDsFNIQz",
        "colab_type": "code",
        "colab": {}
      },
      "source": [
        ""
      ],
      "execution_count": 0,
      "outputs": []
    },
    {
      "cell_type": "markdown",
      "metadata": {
        "id": "A0iiiAZdRrOP",
        "colab_type": "text"
      },
      "source": [
        "def define_model():\n",
        "    inputs = Input(shape = (500, ))\n",
        "    embedding1_1 = Embedding(2000, 100)(inputs)\n",
        "    conv1_1 = Conv1D(filters=32, kernel_size=10, activation='tanh')(embedding1_1)\n",
        "\n",
        "    pool1_1 = MaxPooling1D(pool_size=2)(conv1_1)\n",
        "    flatten = Flatten()(pool1_1)\n",
        "\n",
        "    dense1 = Dense(64, activation = 'tanh')(flatten)\n",
        "    outputs = Dense(num_classes, activation='sigmoid')(dense1)\n",
        "\n",
        "    \n",
        "\n",
        "    model = Model(inputs=inputs, outputs=outputs)\n",
        "\n",
        "    model.compile(loss='binary_crossentropy', optimizer=Adam(lr=0.03), metrics=['accuracy'])\n",
        "\n",
        "    return model"
      ]
    },
    {
      "cell_type": "code",
      "metadata": {
        "id": "Sh8yBiJYQYDx",
        "colab_type": "code",
        "colab": {}
      },
      "source": [
        "def define_model():\n",
        "    inputs = Input(shape=(500,))\n",
        "    embedding = Embedding(input_dim=500, output_dim=100)(inputs)\n",
        "    conv = Conv1D(filters = 32, kernel_size=10, activation='relu')(embedding)\n",
        "    pool = MaxPooling1D(pool_size=2)(conv)\n",
        "    flatten = Flatten()(pool)\n",
        "    dense = Dense(64, activation='relu')(flatten)\n",
        "    outputs = Dense(num_classes, activation='sigmoid')(dense)\n",
        "\n",
        "    model = Model(inputs=inputs, outputs=outputs)\n",
        "\n",
        "    model.compile(optimizer='adam',loss='binary_crossentropy',metrics=['accuracy'])\n",
        "\n",
        "    return model"
      ],
      "execution_count": 0,
      "outputs": []
    },
    {
      "cell_type": "markdown",
      "metadata": {
        "id": "t8ghSjI3RoYQ",
        "colab_type": "text"
      },
      "source": [
        "def define_model():\n",
        "    model = Sequential()\n",
        "    model.add(Embedding(input_dim=200, output_dim=100, input_length=500))\n",
        "    model.add(Conv1D(filters=32, kernel_size=10, activation='relu'))\n",
        "    model.add(MaxPooling1D(pool_size=2))\n",
        "\n",
        "    model.add(Flatten())\n",
        "\n",
        "    model.add(Dense(64,activation='relu'))\n",
        "    model.add(Dense(11, activation='sigmoid'))\n",
        "\n",
        "    model.compile(optimizer='adam',loss='binary_crossentropy',metrics=['accuracy'])\n",
        "    return model"
      ]
    },
    {
      "cell_type": "code",
      "metadata": {
        "id": "OPS9g0D0Cv0T",
        "colab_type": "code",
        "colab": {
          "base_uri": "https://localhost:8080/",
          "height": 417
        },
        "outputId": "afe46691-5790-4fad-f48a-55668476389f"
      },
      "source": [
        "model = define_model()\n",
        "model.summary()"
      ],
      "execution_count": 49,
      "outputs": [
        {
          "output_type": "stream",
          "text": [
            "Model: \"model_8\"\n",
            "_________________________________________________________________\n",
            "Layer (type)                 Output Shape              Param #   \n",
            "=================================================================\n",
            "input_8 (InputLayer)         (None, 500)               0         \n",
            "_________________________________________________________________\n",
            "embedding_8 (Embedding)      (None, 500, 100)          50000     \n",
            "_________________________________________________________________\n",
            "conv1d_8 (Conv1D)            (None, 491, 32)           32032     \n",
            "_________________________________________________________________\n",
            "max_pooling1d_8 (MaxPooling1 (None, 245, 32)           0         \n",
            "_________________________________________________________________\n",
            "flatten_8 (Flatten)          (None, 7840)              0         \n",
            "_________________________________________________________________\n",
            "dense_15 (Dense)             (None, 64)                501824    \n",
            "_________________________________________________________________\n",
            "dense_16 (Dense)             (None, 11)                715       \n",
            "=================================================================\n",
            "Total params: 584,571\n",
            "Trainable params: 584,571\n",
            "Non-trainable params: 0\n",
            "_________________________________________________________________\n"
          ],
          "name": "stdout"
        }
      ]
    },
    {
      "cell_type": "code",
      "metadata": {
        "id": "D7P1AD2sDCYG",
        "colab_type": "code",
        "colab": {
          "base_uri": "https://localhost:8080/",
          "height": 473
        },
        "outputId": "5cabd23e-4729-4698-9900-78b447ca51e7"
      },
      "source": [
        "model.fit(X_train, y_train, validation_split=0.2, batch_size=512, epochs=10)"
      ],
      "execution_count": 50,
      "outputs": [
        {
          "output_type": "stream",
          "text": [
            "/usr/local/lib/python3.6/dist-packages/tensorflow/python/framework/indexed_slices.py:434: UserWarning: Converting sparse IndexedSlices to a dense Tensor of unknown shape. This may consume a large amount of memory.\n",
            "  \"Converting sparse IndexedSlices to a dense Tensor of unknown shape. \"\n"
          ],
          "name": "stderr"
        },
        {
          "output_type": "stream",
          "text": [
            "Train on 2407 samples, validate on 602 samples\n",
            "Epoch 1/10\n",
            "2407/2407 [==============================] - 1s 243us/step - loss: 0.6266 - accuracy: 0.7170 - val_loss: 0.5215 - val_accuracy: 0.7780\n",
            "Epoch 2/10\n",
            "2407/2407 [==============================] - 0s 134us/step - loss: 0.5207 - accuracy: 0.7722 - val_loss: 0.4928 - val_accuracy: 0.7765\n",
            "Epoch 3/10\n",
            "2407/2407 [==============================] - 0s 128us/step - loss: 0.4871 - accuracy: 0.7807 - val_loss: 0.4897 - val_accuracy: 0.7780\n",
            "Epoch 4/10\n",
            "2407/2407 [==============================] - 0s 127us/step - loss: 0.4835 - accuracy: 0.7823 - val_loss: 0.4782 - val_accuracy: 0.7765\n",
            "Epoch 5/10\n",
            "2407/2407 [==============================] - 0s 127us/step - loss: 0.4791 - accuracy: 0.7787 - val_loss: 0.4767 - val_accuracy: 0.7801\n",
            "Epoch 6/10\n",
            "2407/2407 [==============================] - 0s 131us/step - loss: 0.4777 - accuracy: 0.7807 - val_loss: 0.4755 - val_accuracy: 0.7780\n",
            "Epoch 7/10\n",
            "2407/2407 [==============================] - 0s 128us/step - loss: 0.4756 - accuracy: 0.7866 - val_loss: 0.4735 - val_accuracy: 0.7921\n",
            "Epoch 8/10\n",
            "2407/2407 [==============================] - 0s 127us/step - loss: 0.4737 - accuracy: 0.7887 - val_loss: 0.4718 - val_accuracy: 0.7830\n",
            "Epoch 9/10\n",
            "2407/2407 [==============================] - 0s 127us/step - loss: 0.4708 - accuracy: 0.7884 - val_loss: 0.4681 - val_accuracy: 0.7951\n",
            "Epoch 10/10\n",
            "2407/2407 [==============================] - 0s 128us/step - loss: 0.4666 - accuracy: 0.7937 - val_loss: 0.4628 - val_accuracy: 0.7940\n"
          ],
          "name": "stdout"
        },
        {
          "output_type": "execute_result",
          "data": {
            "text/plain": [
              "<keras.callbacks.callbacks.History at 0x7f98acd8cef0>"
            ]
          },
          "metadata": {
            "tags": []
          },
          "execution_count": 50
        }
      ]
    },
    {
      "cell_type": "code",
      "metadata": {
        "id": "H8IjQdgjDmn3",
        "colab_type": "code",
        "colab": {
          "base_uri": "https://localhost:8080/",
          "height": 53
        },
        "outputId": "954b6792-c46e-4c66-fde6-cb219d676f13"
      },
      "source": [
        "model.evaluate(X_test, y_test)"
      ],
      "execution_count": 51,
      "outputs": [
        {
          "output_type": "stream",
          "text": [
            "335/335 [==============================] - 0s 124us/step\n"
          ],
          "name": "stdout"
        },
        {
          "output_type": "execute_result",
          "data": {
            "text/plain": [
              "[0.46973077236716426, 0.781818151473999]"
            ]
          },
          "metadata": {
            "tags": []
          },
          "execution_count": 51
        }
      ]
    },
    {
      "cell_type": "code",
      "metadata": {
        "id": "puGrcinJD8ew",
        "colab_type": "code",
        "colab": {
          "base_uri": "https://localhost:8080/",
          "height": 72
        },
        "outputId": "1d26e296-7e80-4b82-a14a-8f344e022737"
      },
      "source": [
        "pd.Series(model.predict(X).argmax(axis = -1)).value_counts()"
      ],
      "execution_count": 52,
      "outputs": [
        {
          "output_type": "execute_result",
          "data": {
            "text/plain": [
              "4    3189\n",
              "8     155\n",
              "dtype: int64"
            ]
          },
          "metadata": {
            "tags": []
          },
          "execution_count": 52
        }
      ]
    },
    {
      "cell_type": "code",
      "metadata": {
        "id": "2AFcIOvtD-Xx",
        "colab_type": "code",
        "colab": {}
      },
      "source": [
        "    "
      ],
      "execution_count": 0,
      "outputs": []
    }
  ]
}