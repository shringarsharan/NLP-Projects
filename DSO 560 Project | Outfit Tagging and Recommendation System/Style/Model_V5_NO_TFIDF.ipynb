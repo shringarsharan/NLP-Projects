{
  "nbformat": 4,
  "nbformat_minor": 0,
  "metadata": {
    "colab": {
      "name": "Model_V5.ipynb",
      "provenance": []
    },
    "kernelspec": {
      "name": "python3",
      "display_name": "Python 3"
    },
    "accelerator": "GPU"
  },
  "cells": [
    {
      "cell_type": "code",
      "metadata": {
        "id": "vvLHOmMukGGN",
        "colab_type": "code",
        "colab": {}
      },
      "source": [
        "#from google.colab import drive\n",
        "#drive.mount('/content/drive')"
      ],
      "execution_count": 0,
      "outputs": []
    },
    {
      "cell_type": "code",
      "metadata": {
        "id": "4Pxdph9JB-dG",
        "colab_type": "code",
        "colab": {}
      },
      "source": [
        "#!pip install -U imbalanced-learn"
      ],
      "execution_count": 0,
      "outputs": []
    },
    {
      "cell_type": "code",
      "metadata": {
        "id": "OZMWoVO4kknG",
        "colab_type": "code",
        "outputId": "da11d15e-7a1e-4b53-d8db-7e6f85aec373",
        "colab": {
          "base_uri": "https://localhost:8080/",
          "height": 35
        }
      },
      "source": [
        "import pandas as pd\n",
        "import numpy as np\n",
        "from keras.preprocessing.text import Tokenizer\n",
        "from keras.preprocessing.sequence import pad_sequences\n",
        "from keras.preprocessing.sequence import pad_sequences\n",
        "from keras.models import Model, Sequential \n",
        "from keras.layers import Input\n",
        "from keras.layers import Dense, Input, Reshape\n",
        "from keras.layers import Dropout, Activation\n",
        "from keras.layers import Dense, GlobalAveragePooling1D, Activation\n",
        "from keras.layers import Flatten\n",
        "from keras.layers import Dropout\n",
        "from keras.layers import LSTM\n",
        "from keras.layers import Embedding\n",
        "import keras.backend as K \n",
        "from imblearn.combine import SMOTETomek\n",
        "from sklearn.model_selection import train_test_split\n",
        "from keras.optimizers import Adam\n",
        "from keras.layers.convolutional import Conv1D\n",
        "from keras.layers.merge import concatenate\n",
        "from keras.layers.convolutional import MaxPooling1D\n",
        "from sklearn.feature_extraction.text import TfidfVectorizer\n",
        "from gensim.models.phrases import Phraser, Phrases"
      ],
      "execution_count": 3,
      "outputs": [
        {
          "output_type": "stream",
          "text": [
            "Using TensorFlow backend.\n"
          ],
          "name": "stderr"
        }
      ]
    },
    {
      "cell_type": "code",
      "metadata": {
        "id": "1J88vxQgkvZY",
        "colab_type": "code",
        "outputId": "2b9f62f4-b8be-4df8-ac92-cefa07a97f8b",
        "colab": {
          "base_uri": "https://localhost:8080/",
          "height": 53
        }
      },
      "source": [
        "%%time\n",
        "df = pd.read_csv('/content/drive/Shared drives/DSO 560 NLP Project/data.csv')\n",
        "df = df[df['attribute_name'] == 'style'].drop(columns = ['attribute_name'])\n",
        "df['attribute_value'] = df['attribute_value'].apply(lambda x: 'businesscasual' if x == 'business casual' else x)"
      ],
      "execution_count": 4,
      "outputs": [
        {
          "output_type": "stream",
          "text": [
            "CPU times: user 371 ms, sys: 64.8 ms, total: 435 ms\n",
            "Wall time: 477 ms\n"
          ],
          "name": "stdout"
        }
      ]
    },
    {
      "cell_type": "code",
      "metadata": {
        "id": "vyu18_culshy",
        "colab_type": "code",
        "outputId": "659eb833-2c0f-4a8e-a75c-55af27f70281",
        "colab": {
          "base_uri": "https://localhost:8080/",
          "height": 328
        }
      },
      "source": [
        "df.head()"
      ],
      "execution_count": 5,
      "outputs": [
        {
          "output_type": "execute_result",
          "data": {
            "text/html": [
              "<div>\n",
              "<style scoped>\n",
              "    .dataframe tbody tr th:only-of-type {\n",
              "        vertical-align: middle;\n",
              "    }\n",
              "\n",
              "    .dataframe tbody tr th {\n",
              "        vertical-align: top;\n",
              "    }\n",
              "\n",
              "    .dataframe thead th {\n",
              "        text-align: right;\n",
              "    }\n",
              "</style>\n",
              "<table border=\"1\" class=\"dataframe\">\n",
              "  <thead>\n",
              "    <tr style=\"text-align: right;\">\n",
              "      <th></th>\n",
              "      <th>product_id</th>\n",
              "      <th>brand</th>\n",
              "      <th>product_full_name</th>\n",
              "      <th>description</th>\n",
              "      <th>brand_category</th>\n",
              "      <th>attribute_value</th>\n",
              "      <th>details</th>\n",
              "    </tr>\n",
              "  </thead>\n",
              "  <tbody>\n",
              "    <tr>\n",
              "      <th>0</th>\n",
              "      <td>01DPGV4YRP3Z8J85DASGZ1Y99W</td>\n",
              "      <td>frame</td>\n",
              "      <td>les second medium noir</td>\n",
              "      <td>minimal , modern styling meet refined luxury l...</td>\n",
              "      <td>accessory</td>\n",
              "      <td>casual</td>\n",
              "      <td>NaN</td>\n",
              "    </tr>\n",
              "    <tr>\n",
              "      <th>5</th>\n",
              "      <td>01DPH1DEN9G2WM7WAMJMD0A9W4</td>\n",
              "      <td>j crew</td>\n",
              "      <td>tie waist shirtdress stripe</td>\n",
              "      <td>take classic button silhouette turn ultra flat...</td>\n",
              "      <td>dressesandjumpsuits</td>\n",
              "      <td>casual</td>\n",
              "      <td>NaN</td>\n",
              "    </tr>\n",
              "    <tr>\n",
              "      <th>12</th>\n",
              "      <td>01E2KYW52BAG606GQ7A9H5R0KD</td>\n",
              "      <td>alo</td>\n",
              "      <td>interval microfleece pullover hoodie</td>\n",
              "      <td>articulate seam extra wide rib hem create shap...</td>\n",
              "      <td>unknown</td>\n",
              "      <td>casual</td>\n",
              "      <td>xs 0 2 , s 4 6 , m 8 10 , l 12 14</td>\n",
              "    </tr>\n",
              "    <tr>\n",
              "      <th>13</th>\n",
              "      <td>01DT513RRYT3SKH6X25G5VCH6B</td>\n",
              "      <td>chlo</td>\n",
              "      <td>leather ankle boot</td>\n",
              "      <td>heel measure approximately 55 mm 2 inch 30 mm ...</td>\n",
              "      <td>shoe boots ankle</td>\n",
              "      <td>androgynous</td>\n",
              "      <td>fit small size , size large normal available s...</td>\n",
              "    </tr>\n",
              "    <tr>\n",
              "      <th>20</th>\n",
              "      <td>01E2KM0KW6NB1JKMZVRXR6H8G2</td>\n",
              "      <td>alo</td>\n",
              "      <td>stadium quarter zip hoodie</td>\n",
              "      <td>supersoft hoodie design elastic hem cuff perfe...</td>\n",
              "      <td>unknown</td>\n",
              "      <td>casual</td>\n",
              "      <td>xs 0 2 , s 4 6 , m 8 10 , l 12 14</td>\n",
              "    </tr>\n",
              "  </tbody>\n",
              "</table>\n",
              "</div>"
            ],
            "text/plain": [
              "                    product_id  ...                                            details\n",
              "0   01DPGV4YRP3Z8J85DASGZ1Y99W  ...                                                NaN\n",
              "5   01DPH1DEN9G2WM7WAMJMD0A9W4  ...                                                NaN\n",
              "12  01E2KYW52BAG606GQ7A9H5R0KD  ...                  xs 0 2 , s 4 6 , m 8 10 , l 12 14\n",
              "13  01DT513RRYT3SKH6X25G5VCH6B  ...  fit small size , size large normal available s...\n",
              "20  01E2KM0KW6NB1JKMZVRXR6H8G2  ...                  xs 0 2 , s 4 6 , m 8 10 , l 12 14\n",
              "\n",
              "[5 rows x 7 columns]"
            ]
          },
          "metadata": {
            "tags": []
          },
          "execution_count": 5
        }
      ]
    },
    {
      "cell_type": "code",
      "metadata": {
        "id": "4KCfa3CVn9nY",
        "colab_type": "code",
        "colab": {}
      },
      "source": [
        "df['text'] = (df['brand'] + ' ' + df['product_full_name'] + ' ' + df['description'] + ' ' + df['brand_category']).apply(str)"
      ],
      "execution_count": 0,
      "outputs": []
    },
    {
      "cell_type": "code",
      "metadata": {
        "id": "WMi2ULgelhFo",
        "colab_type": "code",
        "colab": {}
      },
      "source": [
        "X = df['text'].values\n",
        "y = pd.get_dummies(df['attribute_value'])\n",
        "label_list = y.columns\n",
        "y = y.values"
      ],
      "execution_count": 0,
      "outputs": []
    },
    {
      "cell_type": "code",
      "metadata": {
        "id": "0YFmF01NwQGo",
        "colab_type": "code",
        "colab": {}
      },
      "source": [
        "def encode_1gram(X, mode = 'binary'):\n",
        "    tokenizer = Tokenizer(num_words=500)\n",
        "    tokenizer.fit_on_texts(X)\n",
        "    length = max([len(s.split()) for s in df['text']])\n",
        "    X = tokenizer.texts_to_matrix(X)\n",
        "    X = pad_sequences(X, maxlen=length, padding='post')\n",
        "    vocab_size = len(tokenizer.word_index) + 1\n",
        "    return X, length, vocab_size"
      ],
      "execution_count": 0,
      "outputs": []
    },
    {
      "cell_type": "code",
      "metadata": {
        "id": "5oETme721eAP",
        "colab_type": "code",
        "colab": {}
      },
      "source": [
        "def encode_2gram(X, mode='binary'):\n",
        "    phrases = Phrases(X, min_count=30)\n",
        "    bigrams = Phraser(phrases)\n",
        "    X = list(bigrams[X])\n",
        "\n",
        "    tokenizer = Tokenizer(num_words=500)\n",
        "    tokenizer.fit_on_texts(X)\n",
        "    length = max([len(s.split()) for s in df['text']])\n",
        "    X = tokenizer.texts_to_matrix(X)\n",
        "    X = pad_sequences(X, maxlen=length, padding='post')\n",
        "    vocab_size = len(tokenizer.word_index) + 1\n",
        "    return X, length, vocab_size"
      ],
      "execution_count": 0,
      "outputs": []
    },
    {
      "cell_type": "code",
      "metadata": {
        "id": "30eS_YrlwyL9",
        "colab_type": "code",
        "outputId": "f92c2776-12e1-4bee-dd2a-93ffe6c97723",
        "colab": {
          "base_uri": "https://localhost:8080/",
          "height": 35
        }
      },
      "source": [
        "Tokenizer()"
      ],
      "execution_count": 8,
      "outputs": [
        {
          "output_type": "execute_result",
          "data": {
            "text/plain": [
              "<keras_preprocessing.text.Tokenizer at 0x7f8443a46860>"
            ]
          },
          "metadata": {
            "tags": []
          },
          "execution_count": 8
        }
      ]
    },
    {
      "cell_type": "code",
      "metadata": {
        "id": "6oEaE9mamM7X",
        "colab_type": "code",
        "colab": {}
      },
      "source": [
        "X1, length1, vocab_size1 = encode_1gram(X)#, mode = 'tfidf')"
      ],
      "execution_count": 0,
      "outputs": []
    },
    {
      "cell_type": "code",
      "metadata": {
        "id": "YGFzNuUUxWmZ",
        "colab_type": "code",
        "colab": {}
      },
      "source": [
        "X2, length2, vocab_size2 = encode_2gram(X)#, mode = 'tfidf')"
      ],
      "execution_count": 0,
      "outputs": []
    },
    {
      "cell_type": "code",
      "metadata": {
        "id": "JM7aXsN--SXZ",
        "colab_type": "code",
        "colab": {}
      },
      "source": [
        "#X1 = X1.reshape(-1, 155, 1)\n",
        "#X2 = X2.reshape(-1, 155, 1)"
      ],
      "execution_count": 0,
      "outputs": []
    },
    {
      "cell_type": "code",
      "metadata": {
        "id": "hJpzT_ygA7Pw",
        "colab_type": "code",
        "outputId": "8d530047-e637-4a7d-9d5c-222fa3284e0a",
        "colab": {
          "base_uri": "https://localhost:8080/",
          "height": 35
        }
      },
      "source": [
        "X1.shape"
      ],
      "execution_count": 14,
      "outputs": [
        {
          "output_type": "execute_result",
          "data": {
            "text/plain": [
              "(10887, 155)"
            ]
          },
          "metadata": {
            "tags": []
          },
          "execution_count": 14
        }
      ]
    },
    {
      "cell_type": "code",
      "metadata": {
        "id": "yf8Gl0NGA1HV",
        "colab_type": "code",
        "colab": {}
      },
      "source": [
        "X = np.concatenate([X1, X2], axis = 1)"
      ],
      "execution_count": 0,
      "outputs": []
    },
    {
      "cell_type": "code",
      "metadata": {
        "id": "Ae88zjZ9CZye",
        "colab_type": "code",
        "colab": {}
      },
      "source": [
        "X_train, X_test, y_train, y_test = train_test_split(X, y, test_size = 0.1, random_state = 42)"
      ],
      "execution_count": 0,
      "outputs": []
    },
    {
      "cell_type": "code",
      "metadata": {
        "id": "VDwRtJkSBvxp",
        "colab_type": "code",
        "colab": {}
      },
      "source": [
        "resampler = SMOTETomek(sampling_strategy = 'auto')\n",
        "X_train, y_train = resampler.fit_resample(X_train, y_train)"
      ],
      "execution_count": 0,
      "outputs": []
    },
    {
      "cell_type": "code",
      "metadata": {
        "id": "XNTeR6ZRoxcL",
        "colab_type": "code",
        "colab": {}
      },
      "source": [
        "num_classes = y.shape[1]"
      ],
      "execution_count": 0,
      "outputs": []
    },
    {
      "cell_type": "code",
      "metadata": {
        "id": "-xgZ_gpen5wR",
        "colab_type": "code",
        "colab": {}
      },
      "source": [
        "def define_model():\n",
        "    inputs = Input(shape=(length1+length2,))\n",
        "    #x1 = Conv1D(filters=num_classes, kernel_size=1, padding='valid')(inputs1)\n",
        "    embedding = Embedding(input_dim=vocab_size1, output_dim=100)(inputs)\n",
        "\n",
        "    #inputs2 = Input(shape=(length2,))\n",
        "    #x2 = Conv1D(filters=num_classes, kernel_size=1, padding='valid')(inputs2)\n",
        "    #dense2 = Dense(100, activation='relu')(inputs2)\n",
        "    #embedding2 = Embedding(input_dim=vocab_size2, output_dim=100)(inputs2)\n",
        "\n",
        "    #merged = concatenate([inputs1, inputs1])\n",
        "    x = LSTM(16, return_sequences=True, dropout=0.2, recurrent_dropout=0.15)(embedding)\n",
        "\n",
        "    #x = Dense(100, activation = 'relu')(inputs)\n",
        "\n",
        "\n",
        "    x = Conv1D(filters=num_classes, kernel_size=1, padding='valid')(x)\n",
        "    x = Conv1D(filters=num_classes, kernel_size=310, padding='valid')(x)\n",
        "    x = Reshape((num_classes,))(x)\n",
        "    #x = Dense(num_classes)(x)\n",
        "    out = Activation('sigmoid')(x)\n",
        "\n",
        "    model = Model(inputs = [inputs], outputs = out)\n",
        "\n",
        "    model.compile(loss='binary_crossentropy', optimizer='adam', metrics=['accuracy'])\n",
        "\n",
        "    return model"
      ],
      "execution_count": 0,
      "outputs": []
    },
    {
      "cell_type": "code",
      "metadata": {
        "id": "WtVkDeU4pOFw",
        "colab_type": "code",
        "outputId": "54127941-b39b-46df-dbf6-193d54fb3b12",
        "colab": {
          "base_uri": "https://localhost:8080/",
          "height": 417
        }
      },
      "source": [
        "model = define_model()\n",
        "model.summary()"
      ],
      "execution_count": 21,
      "outputs": [
        {
          "output_type": "stream",
          "text": [
            "Model: \"model_1\"\n",
            "_________________________________________________________________\n",
            "Layer (type)                 Output Shape              Param #   \n",
            "=================================================================\n",
            "input_1 (InputLayer)         (None, 310)               0         \n",
            "_________________________________________________________________\n",
            "embedding_1 (Embedding)      (None, 310, 100)          611300    \n",
            "_________________________________________________________________\n",
            "lstm_1 (LSTM)                (None, 310, 16)           7488      \n",
            "_________________________________________________________________\n",
            "conv1d_1 (Conv1D)            (None, 310, 11)           187       \n",
            "_________________________________________________________________\n",
            "conv1d_2 (Conv1D)            (None, 1, 11)             37521     \n",
            "_________________________________________________________________\n",
            "reshape_1 (Reshape)          (None, 11)                0         \n",
            "_________________________________________________________________\n",
            "activation_1 (Activation)    (None, 11)                0         \n",
            "=================================================================\n",
            "Total params: 656,496\n",
            "Trainable params: 656,496\n",
            "Non-trainable params: 0\n",
            "_________________________________________________________________\n"
          ],
          "name": "stdout"
        }
      ]
    },
    {
      "cell_type": "code",
      "metadata": {
        "id": "wfeN4H1XpRvM",
        "colab_type": "code",
        "outputId": "3cc57200-a6a7-432f-bda0-a044746b9910",
        "colab": {
          "base_uri": "https://localhost:8080/",
          "height": 473
        }
      },
      "source": [
        "model.fit(X_train, y_train, validation_split=0.2, epochs=10, batch_size=512)"
      ],
      "execution_count": 22,
      "outputs": [
        {
          "output_type": "stream",
          "text": [
            "/usr/local/lib/python3.6/dist-packages/tensorflow/python/framework/indexed_slices.py:434: UserWarning: Converting sparse IndexedSlices to a dense Tensor of unknown shape. This may consume a large amount of memory.\n",
            "  \"Converting sparse IndexedSlices to a dense Tensor of unknown shape. \"\n"
          ],
          "name": "stderr"
        },
        {
          "output_type": "stream",
          "text": [
            "Train on 20944 samples, validate on 5236 samples\n",
            "Epoch 1/10\n",
            "20944/20944 [==============================] - 27s 1ms/step - loss: 0.3531 - accuracy: 0.8968 - val_loss: 0.4575 - val_accuracy: 0.9091\n",
            "Epoch 2/10\n",
            "20944/20944 [==============================] - 25s 1ms/step - loss: 0.2961 - accuracy: 0.9091 - val_loss: 0.4470 - val_accuracy: 0.9091\n",
            "Epoch 3/10\n",
            "20944/20944 [==============================] - 25s 1ms/step - loss: 0.2952 - accuracy: 0.9091 - val_loss: 0.4531 - val_accuracy: 0.9091\n",
            "Epoch 4/10\n",
            "20944/20944 [==============================] - 25s 1ms/step - loss: 0.2949 - accuracy: 0.9091 - val_loss: 0.4488 - val_accuracy: 0.9091\n",
            "Epoch 5/10\n",
            "20944/20944 [==============================] - 24s 1ms/step - loss: 0.2944 - accuracy: 0.9091 - val_loss: 0.4409 - val_accuracy: 0.9091\n",
            "Epoch 6/10\n",
            "20944/20944 [==============================] - 25s 1ms/step - loss: 0.2933 - accuracy: 0.9091 - val_loss: 0.4448 - val_accuracy: 0.9091\n",
            "Epoch 7/10\n",
            "20944/20944 [==============================] - 24s 1ms/step - loss: 0.2876 - accuracy: 0.9098 - val_loss: 0.4536 - val_accuracy: 0.9091\n",
            "Epoch 8/10\n",
            "20944/20944 [==============================] - 25s 1ms/step - loss: 0.2799 - accuracy: 0.9107 - val_loss: 0.4516 - val_accuracy: 0.9090\n",
            "Epoch 9/10\n",
            "20944/20944 [==============================] - 25s 1ms/step - loss: 0.2742 - accuracy: 0.9107 - val_loss: 0.4411 - val_accuracy: 0.9086\n",
            "Epoch 10/10\n",
            "20944/20944 [==============================] - 24s 1ms/step - loss: 0.2702 - accuracy: 0.9110 - val_loss: 0.4383 - val_accuracy: 0.9085\n"
          ],
          "name": "stdout"
        },
        {
          "output_type": "execute_result",
          "data": {
            "text/plain": [
              "<keras.callbacks.callbacks.History at 0x7f84438eb358>"
            ]
          },
          "metadata": {
            "tags": []
          },
          "execution_count": 22
        }
      ]
    },
    {
      "cell_type": "code",
      "metadata": {
        "id": "RH0rgY1WChE4",
        "colab_type": "code",
        "outputId": "c80d6a2a-b1f3-4ed0-dfab-a1f9a019ac3b",
        "colab": {
          "base_uri": "https://localhost:8080/",
          "height": 53
        }
      },
      "source": [
        "model.evaluate(X_test, y_test)"
      ],
      "execution_count": 23,
      "outputs": [
        {
          "output_type": "stream",
          "text": [
            "1089/1089 [==============================] - 2s 2ms/step\n"
          ],
          "name": "stdout"
        },
        {
          "output_type": "execute_result",
          "data": {
            "text/plain": [
              "[0.29750099181581574, 0.9067535996437073]"
            ]
          },
          "metadata": {
            "tags": []
          },
          "execution_count": 23
        }
      ]
    },
    {
      "cell_type": "code",
      "metadata": {
        "id": "ythmDKKlpjsc",
        "colab_type": "code",
        "colab": {}
      },
      "source": [
        "results = model.predict(X)"
      ],
      "execution_count": 0,
      "outputs": []
    },
    {
      "cell_type": "code",
      "metadata": {
        "id": "Xjn1GCho_snJ",
        "colab_type": "code",
        "colab": {}
      },
      "source": [
        "results_df = pd.DataFrame()\n",
        "results_mask = results > 0.1\n",
        "for i in range(len(label_list)):\n",
        "    results_df[label_list[i]] = results_mask[:,i]\n",
        "    results_df[label_list[i]] = results_df[label_list[i]].apply(int)"
      ],
      "execution_count": 0,
      "outputs": []
    },
    {
      "cell_type": "code",
      "metadata": {
        "id": "5WsQqrmxprsc",
        "colab_type": "code",
        "outputId": "bc923846-61cc-42a4-8450-03b20225b48a",
        "colab": {
          "base_uri": "https://localhost:8080/",
          "height": 35
        }
      },
      "source": [
        "results_df['sum']  = 0\n",
        "for key in label_list:\n",
        "    results_df['sum'] = results_df['sum'] + results_df[key]\n",
        "(results_df['sum'] == 0).sum()"
      ],
      "execution_count": 26,
      "outputs": [
        {
          "output_type": "execute_result",
          "data": {
            "text/plain": [
              "0"
            ]
          },
          "metadata": {
            "tags": []
          },
          "execution_count": 26
        }
      ]
    },
    {
      "cell_type": "code",
      "metadata": {
        "id": "BmfNQQbrqhhc",
        "colab_type": "code",
        "colab": {
          "base_uri": "https://localhost:8080/",
          "height": 223
        },
        "outputId": "b1ae8402-8a38-4ea7-850f-8c14375cfe48"
      },
      "source": [
        "results_df = results_df.drop(columns = ['sum'])\n",
        "for key in label_list:\n",
        "    results_df[key] = results_df[key].apply(lambda x: key if x == 1 else '')\n",
        "\n",
        "results_df['attribute_value'] = ''\n",
        "for key in label_list:\n",
        "    results_df['attribute_value'] = results_df['attribute_value'] + ' ' + results_df[key]\n",
        "\n",
        "results_df['attribute_value'] = results_df['attribute_value'].apply(lambda x: ', '.join(x.split()))\n",
        "results_df.head()"
      ],
      "execution_count": 27,
      "outputs": [
        {
          "output_type": "execute_result",
          "data": {
            "text/html": [
              "<div>\n",
              "<style scoped>\n",
              "    .dataframe tbody tr th:only-of-type {\n",
              "        vertical-align: middle;\n",
              "    }\n",
              "\n",
              "    .dataframe tbody tr th {\n",
              "        vertical-align: top;\n",
              "    }\n",
              "\n",
              "    .dataframe thead th {\n",
              "        text-align: right;\n",
              "    }\n",
              "</style>\n",
              "<table border=\"1\" class=\"dataframe\">\n",
              "  <thead>\n",
              "    <tr style=\"text-align: right;\">\n",
              "      <th></th>\n",
              "      <th>androgynous</th>\n",
              "      <th>athleisure</th>\n",
              "      <th>boho</th>\n",
              "      <th>businesscasual</th>\n",
              "      <th>casual</th>\n",
              "      <th>classic</th>\n",
              "      <th>edgy</th>\n",
              "      <th>glam</th>\n",
              "      <th>modern</th>\n",
              "      <th>retro</th>\n",
              "      <th>romantic</th>\n",
              "      <th>attribute_value</th>\n",
              "    </tr>\n",
              "  </thead>\n",
              "  <tbody>\n",
              "    <tr>\n",
              "      <th>0</th>\n",
              "      <td></td>\n",
              "      <td></td>\n",
              "      <td></td>\n",
              "      <td>businesscasual</td>\n",
              "      <td>casual</td>\n",
              "      <td>classic</td>\n",
              "      <td></td>\n",
              "      <td></td>\n",
              "      <td>modern</td>\n",
              "      <td></td>\n",
              "      <td></td>\n",
              "      <td>businesscasual, casual, classic, modern</td>\n",
              "    </tr>\n",
              "    <tr>\n",
              "      <th>1</th>\n",
              "      <td></td>\n",
              "      <td></td>\n",
              "      <td></td>\n",
              "      <td>businesscasual</td>\n",
              "      <td>casual</td>\n",
              "      <td>classic</td>\n",
              "      <td></td>\n",
              "      <td></td>\n",
              "      <td>modern</td>\n",
              "      <td></td>\n",
              "      <td></td>\n",
              "      <td>businesscasual, casual, classic, modern</td>\n",
              "    </tr>\n",
              "    <tr>\n",
              "      <th>2</th>\n",
              "      <td></td>\n",
              "      <td>athleisure</td>\n",
              "      <td></td>\n",
              "      <td></td>\n",
              "      <td></td>\n",
              "      <td></td>\n",
              "      <td></td>\n",
              "      <td></td>\n",
              "      <td></td>\n",
              "      <td></td>\n",
              "      <td></td>\n",
              "      <td>athleisure</td>\n",
              "    </tr>\n",
              "    <tr>\n",
              "      <th>3</th>\n",
              "      <td>androgynous</td>\n",
              "      <td></td>\n",
              "      <td></td>\n",
              "      <td>businesscasual</td>\n",
              "      <td>casual</td>\n",
              "      <td></td>\n",
              "      <td>edgy</td>\n",
              "      <td>glam</td>\n",
              "      <td>modern</td>\n",
              "      <td></td>\n",
              "      <td></td>\n",
              "      <td>androgynous, businesscasual, casual, edgy, gla...</td>\n",
              "    </tr>\n",
              "    <tr>\n",
              "      <th>4</th>\n",
              "      <td></td>\n",
              "      <td>athleisure</td>\n",
              "      <td></td>\n",
              "      <td></td>\n",
              "      <td></td>\n",
              "      <td></td>\n",
              "      <td></td>\n",
              "      <td></td>\n",
              "      <td></td>\n",
              "      <td></td>\n",
              "      <td></td>\n",
              "      <td>athleisure</td>\n",
              "    </tr>\n",
              "  </tbody>\n",
              "</table>\n",
              "</div>"
            ],
            "text/plain": [
              "   androgynous  ...                                    attribute_value\n",
              "0               ...            businesscasual, casual, classic, modern\n",
              "1               ...            businesscasual, casual, classic, modern\n",
              "2               ...                                         athleisure\n",
              "3  androgynous  ...  androgynous, businesscasual, casual, edgy, gla...\n",
              "4               ...                                         athleisure\n",
              "\n",
              "[5 rows x 12 columns]"
            ]
          },
          "metadata": {
            "tags": []
          },
          "execution_count": 27
        }
      ]
    },
    {
      "cell_type": "code",
      "metadata": {
        "id": "kBsLjXEzyvys",
        "colab_type": "code",
        "colab": {
          "base_uri": "https://localhost:8080/",
          "height": 235
        },
        "outputId": "68a200e7-5ea0-4c43-e563-4a4a5559cda0"
      },
      "source": [
        "results_df['attribute_value'].value_counts()"
      ],
      "execution_count": 28,
      "outputs": [
        {
          "output_type": "execute_result",
          "data": {
            "text/plain": [
              "androgynous, athleisure, boho, businesscasual, classic, edgy    3446\n",
              "businesscasual, casual, classic                                  434\n",
              "businesscasual, casual, classic, modern                          383\n",
              "androgynous, businesscasual, casual, classic                     302\n",
              "casual, edgy, modern                                             235\n",
              "                                                                ... \n",
              "athleisure, businesscasual                                         2\n",
              "edgy, glam, modern                                                 2\n",
              "athleisure, businesscasual, casual, classic, modern                2\n",
              "androgynous, businesscasual, casual, edgy                          2\n",
              "androgynous, businesscasual, glam, modern                          1\n",
              "Name: attribute_value, Length: 214, dtype: int64"
            ]
          },
          "metadata": {
            "tags": []
          },
          "execution_count": 28
        }
      ]
    }
  ]
}