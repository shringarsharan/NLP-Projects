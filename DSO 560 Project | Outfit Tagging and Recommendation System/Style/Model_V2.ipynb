{
  "nbformat": 4,
  "nbformat_minor": 0,
  "metadata": {
    "colab": {
      "name": "Model.ipynb",
      "provenance": [],
      "machine_shape": "hm",
      "mount_file_id": "1CLgaEqvck5hj8me0R7QOl1rC6qaxnG5k",
      "authorship_tag": "ABX9TyPU7MN/cefPaxVQDWLa93h2"
    },
    "kernelspec": {
      "name": "python3",
      "display_name": "Python 3"
    },
    "accelerator": "GPU"
  },
  "cells": [
    {
      "cell_type": "code",
      "metadata": {
        "id": "fc-moO8wudyK",
        "colab_type": "code",
        "colab": {
          "base_uri": "https://localhost:8080/",
          "height": 35
        },
        "outputId": "16ed3275-d77f-403f-a314-e2bf3283cd35"
      },
      "source": [
        "import pandas as pd\n",
        "import numpy as np\n",
        "from keras.preprocessing.text import Tokenizer\n",
        "from sklearn.model_selection import train_test_split\n",
        "from keras.preprocessing.sequence import pad_sequences\n",
        "from keras.models import Model, Sequential \n",
        "from keras.layers import Input\n",
        "from keras.layers import Dense, GlobalAveragePooling1D, Activation\n",
        "from keras.layers import Flatten\n",
        "from keras.layers import Dropout\n",
        "from keras.layers import LSTM\n",
        "from keras.layers import Embedding\n",
        "from keras.layers.convolutional import Conv1D\n",
        "from keras.layers.merge import concatenate\n",
        "from keras.layers.convolutional import MaxPooling1D\n",
        "from gensim.models.phrases import Phraser, Phrases\n",
        "from keras import layers, backend\n",
        "from sklearn.feature_extraction.text import TfidfVectorizer"
      ],
      "execution_count": 1,
      "outputs": [
        {
          "output_type": "stream",
          "text": [
            "Using TensorFlow backend.\n"
          ],
          "name": "stderr"
        }
      ]
    },
    {
      "cell_type": "code",
      "metadata": {
        "id": "z8kIKoBQuu4x",
        "colab_type": "code",
        "colab": {
          "base_uri": "https://localhost:8080/",
          "height": 53
        },
        "outputId": "56868c9d-5582-43ef-ee15-9933a40c6470"
      },
      "source": [
        "%%time\n",
        "df = pd.read_csv('/content/drive/Shared drives/DSO 560 NLP Project/train.csv')"
      ],
      "execution_count": 2,
      "outputs": [
        {
          "output_type": "stream",
          "text": [
            "CPU times: user 177 ms, sys: 55 ms, total: 232 ms\n",
            "Wall time: 2.29 s\n"
          ],
          "name": "stdout"
        }
      ]
    },
    {
      "cell_type": "code",
      "metadata": {
        "id": "uHnblL2Ou7W2",
        "colab_type": "code",
        "colab": {}
      },
      "source": [
        "df = df[df['attribute_name'] == 'style']"
      ],
      "execution_count": 0,
      "outputs": []
    },
    {
      "cell_type": "code",
      "metadata": {
        "id": "x7PxDIdjvKx_",
        "colab_type": "code",
        "colab": {}
      },
      "source": [
        "df['attribute_value'] = df['attribute_value'].apply(lambda x: 'businesscasual' if x == 'business casual' else x)"
      ],
      "execution_count": 0,
      "outputs": []
    },
    {
      "cell_type": "code",
      "metadata": {
        "id": "SNfXlQpcvf3U",
        "colab_type": "code",
        "colab": {
          "base_uri": "https://localhost:8080/",
          "height": 345
        },
        "outputId": "ef059175-497f-4a04-f0be-cc2da29db254"
      },
      "source": [
        "df.head()"
      ],
      "execution_count": 5,
      "outputs": [
        {
          "output_type": "execute_result",
          "data": {
            "text/html": [
              "<div>\n",
              "<style scoped>\n",
              "    .dataframe tbody tr th:only-of-type {\n",
              "        vertical-align: middle;\n",
              "    }\n",
              "\n",
              "    .dataframe tbody tr th {\n",
              "        vertical-align: top;\n",
              "    }\n",
              "\n",
              "    .dataframe thead th {\n",
              "        text-align: right;\n",
              "    }\n",
              "</style>\n",
              "<table border=\"1\" class=\"dataframe\">\n",
              "  <thead>\n",
              "    <tr style=\"text-align: right;\">\n",
              "      <th></th>\n",
              "      <th>product_id</th>\n",
              "      <th>brand</th>\n",
              "      <th>product_full_name</th>\n",
              "      <th>description</th>\n",
              "      <th>brand_category</th>\n",
              "      <th>attribute_name</th>\n",
              "      <th>attribute_value</th>\n",
              "    </tr>\n",
              "  </thead>\n",
              "  <tbody>\n",
              "    <tr>\n",
              "      <th>0</th>\n",
              "      <td>01DPGV4YRP3Z8J85DASGZ1Y99W</td>\n",
              "      <td>frame</td>\n",
              "      <td>les second medium noir</td>\n",
              "      <td>minimal , modern styling meet refined luxury l...</td>\n",
              "      <td>accessory</td>\n",
              "      <td>style</td>\n",
              "      <td>casual</td>\n",
              "    </tr>\n",
              "    <tr>\n",
              "      <th>5</th>\n",
              "      <td>01DPH1DEN9G2WM7WAMJMD0A9W4</td>\n",
              "      <td>j crew</td>\n",
              "      <td>tie waist shirtdress stripe</td>\n",
              "      <td>take classic button silhouette turn ultra flat...</td>\n",
              "      <td>dressesandjumpsuits</td>\n",
              "      <td>style</td>\n",
              "      <td>casual</td>\n",
              "    </tr>\n",
              "    <tr>\n",
              "      <th>12</th>\n",
              "      <td>01E2KYW52BAG606GQ7A9H5R0KD</td>\n",
              "      <td>alo</td>\n",
              "      <td>interval microfleece pullover hoodie</td>\n",
              "      <td>articulate seam extra wide rib hem create shap...</td>\n",
              "      <td>unknown</td>\n",
              "      <td>style</td>\n",
              "      <td>casual</td>\n",
              "    </tr>\n",
              "    <tr>\n",
              "      <th>13</th>\n",
              "      <td>01DT513RRYT3SKH6X25G5VCH6B</td>\n",
              "      <td>chlo</td>\n",
              "      <td>leather ankle boot</td>\n",
              "      <td>heel measure approximately 55 mm 2 inch 30 mm ...</td>\n",
              "      <td>shoe boots ankle</td>\n",
              "      <td>style</td>\n",
              "      <td>androgynous</td>\n",
              "    </tr>\n",
              "    <tr>\n",
              "      <th>20</th>\n",
              "      <td>01E2KM0KW6NB1JKMZVRXR6H8G2</td>\n",
              "      <td>alo</td>\n",
              "      <td>stadium quarter zip hoodie</td>\n",
              "      <td>supersoft hoodie design elastic hem cuff perfe...</td>\n",
              "      <td>unknown</td>\n",
              "      <td>style</td>\n",
              "      <td>casual</td>\n",
              "    </tr>\n",
              "  </tbody>\n",
              "</table>\n",
              "</div>"
            ],
            "text/plain": [
              "                    product_id   brand  ... attribute_name attribute_value\n",
              "0   01DPGV4YRP3Z8J85DASGZ1Y99W   frame  ...          style          casual\n",
              "5   01DPH1DEN9G2WM7WAMJMD0A9W4  j crew  ...          style          casual\n",
              "12  01E2KYW52BAG606GQ7A9H5R0KD     alo  ...          style          casual\n",
              "13  01DT513RRYT3SKH6X25G5VCH6B    chlo  ...          style     androgynous\n",
              "20  01E2KM0KW6NB1JKMZVRXR6H8G2     alo  ...          style          casual\n",
              "\n",
              "[5 rows x 7 columns]"
            ]
          },
          "metadata": {
            "tags": []
          },
          "execution_count": 5
        }
      ]
    },
    {
      "cell_type": "code",
      "metadata": {
        "id": "Ixp8-SslTFkz",
        "colab_type": "code",
        "colab": {}
      },
      "source": [
        "df['text'] = df['brand'] + ' ' + df['product_full_name'] + ' ' + df['description'] + ' ' + df['brand_category']"
      ],
      "execution_count": 0,
      "outputs": []
    },
    {
      "cell_type": "code",
      "metadata": {
        "id": "mpCj37TBwWae",
        "colab_type": "code",
        "colab": {}
      },
      "source": [
        "df['text'] = df['text'].apply(str)"
      ],
      "execution_count": 0,
      "outputs": []
    },
    {
      "cell_type": "code",
      "metadata": {
        "id": "adhnbnBgvBpy",
        "colab_type": "code",
        "colab": {
          "base_uri": "https://localhost:8080/",
          "height": 235
        },
        "outputId": "760db3ba-3d82-41ea-a61c-42349b530353"
      },
      "source": [
        "df['attribute_value'].value_counts()"
      ],
      "execution_count": 8,
      "outputs": [
        {
          "output_type": "execute_result",
          "data": {
            "text/plain": [
              "casual            3067\n",
              "modern            2372\n",
              "classic           1923\n",
              "businesscasual    1492\n",
              "androgynous       1080\n",
              "edgy               919\n",
              "romantic           765\n",
              "boho               587\n",
              "glam               582\n",
              "athleisure         401\n",
              "retro              295\n",
              "Name: attribute_value, dtype: int64"
            ]
          },
          "metadata": {
            "tags": []
          },
          "execution_count": 8
        }
      ]
    },
    {
      "cell_type": "code",
      "metadata": {
        "id": "HwI67ObPx752",
        "colab_type": "code",
        "colab": {}
      },
      "source": [
        "y = df['attribute_value']"
      ],
      "execution_count": 0,
      "outputs": []
    },
    {
      "cell_type": "code",
      "metadata": {
        "id": "DkaHQhNTyAa6",
        "colab_type": "code",
        "colab": {}
      },
      "source": [
        "y = pd.get_dummies(y)\n",
        "label_list = y.columns.tolist()\n",
        "y = y.values"
      ],
      "execution_count": 0,
      "outputs": []
    },
    {
      "cell_type": "code",
      "metadata": {
        "id": "VyO1GCixUnnf",
        "colab_type": "code",
        "colab": {
          "base_uri": "https://localhost:8080/",
          "height": 35
        },
        "outputId": "53b32608-e261-4da1-e172-aaac326ec431"
      },
      "source": [
        "num_classes = y.shape[1]\n",
        "num_classes"
      ],
      "execution_count": 11,
      "outputs": [
        {
          "output_type": "execute_result",
          "data": {
            "text/plain": [
              "11"
            ]
          },
          "metadata": {
            "tags": []
          },
          "execution_count": 11
        }
      ]
    },
    {
      "cell_type": "code",
      "metadata": {
        "id": "lmOyRC0ViZwa",
        "colab_type": "code",
        "colab": {}
      },
      "source": [
        "tokenizer = TfidfVectorizer(max_features=500, min_df = 5, ngram_range=(1,2))"
      ],
      "execution_count": 0,
      "outputs": []
    },
    {
      "cell_type": "code",
      "metadata": {
        "id": "wsWbG3RAiZ9Z",
        "colab_type": "code",
        "colab": {}
      },
      "source": [
        "X = tokenizer.fit_transform(df['text'].values)"
      ],
      "execution_count": 0,
      "outputs": []
    },
    {
      "cell_type": "code",
      "metadata": {
        "id": "mEkD9asbiZ5L",
        "colab_type": "code",
        "colab": {}
      },
      "source": [
        ""
      ],
      "execution_count": 0,
      "outputs": []
    },
    {
      "cell_type": "code",
      "metadata": {
        "id": "1ZXQJzU2vHGL",
        "colab_type": "code",
        "colab": {}
      },
      "source": [
        "def create_tokenizer(lines, n):\n",
        "    tokenizer = TfidfVectorizer(max_features=500, min_df = 5, ngram_range=(n,n))\n",
        "    tokenizer.fit(lines)\n",
        "    return tokenizer"
      ],
      "execution_count": 0,
      "outputs": []
    },
    {
      "cell_type": "code",
      "metadata": {
        "id": "4V7jTNDCxLQZ",
        "colab_type": "code",
        "colab": {}
      },
      "source": [
        "def max_length(lines):\n",
        "\treturn max([len(s.split()) for s in lines])"
      ],
      "execution_count": 0,
      "outputs": []
    },
    {
      "cell_type": "code",
      "metadata": {
        "id": "p7gILHq2xeqZ",
        "colab_type": "code",
        "colab": {}
      },
      "source": [
        "def encode_text(tokenizer, lines, length):\n",
        "\t# integer encode\n",
        "\tencoded = tokenizer.transform(lines).todense()\n",
        "\t# pad encoded sequences\n",
        "\tpadded = pad_sequences(encoded, maxlen=length, padding='post')\n",
        "\treturn padded"
      ],
      "execution_count": 0,
      "outputs": []
    },
    {
      "cell_type": "code",
      "metadata": {
        "id": "eiXXvudrgChU",
        "colab_type": "code",
        "colab": {
          "base_uri": "https://localhost:8080/",
          "height": 35
        },
        "outputId": "228588e6-aebe-4657-eff0-f1bf7ea318c2"
      },
      "source": [
        "df['attribute_value'].isna().sum()"
      ],
      "execution_count": 15,
      "outputs": [
        {
          "output_type": "execute_result",
          "data": {
            "text/plain": [
              "0"
            ]
          },
          "metadata": {
            "tags": []
          },
          "execution_count": 15
        }
      ]
    },
    {
      "cell_type": "code",
      "metadata": {
        "id": "s0itDmsBcGSp",
        "colab_type": "code",
        "colab": {}
      },
      "source": [
        "def transfrom_text(n):\n",
        "    tokenizer = create_tokenizer(df['text'].values, n)\n",
        "    length = max_length(df['text'].values)\n",
        "    vocab_size = 500 + 1\n",
        "    return encode_text(tokenizer, df['text'].values, length), vocab_size, length"
      ],
      "execution_count": 0,
      "outputs": []
    },
    {
      "cell_type": "code",
      "metadata": {
        "id": "iy9kkUPxxZ5w",
        "colab_type": "code",
        "colab": {}
      },
      "source": [
        "X_1, vocab_size1, length1 = transfrom_text(1)"
      ],
      "execution_count": 0,
      "outputs": []
    },
    {
      "cell_type": "code",
      "metadata": {
        "id": "XQfrutCmcmVC",
        "colab_type": "code",
        "colab": {}
      },
      "source": [
        "X_2, vocab_size2, length2 = transfrom_text(2)"
      ],
      "execution_count": 0,
      "outputs": []
    },
    {
      "cell_type": "code",
      "metadata": {
        "id": "I-c1I7Y_yU69",
        "colab_type": "code",
        "colab": {}
      },
      "source": [
        "X_train, X_test, y_train, y_test = train_test_split(X, y, test_size = 0.1, random_state = 42)"
      ],
      "execution_count": 0,
      "outputs": []
    },
    {
      "cell_type": "code",
      "metadata": {
        "id": "rGSk_maYzkDd",
        "colab_type": "code",
        "colab": {}
      },
      "source": [
        "def define_model(length, vocab_size, n):\n",
        "\n",
        "    inputs1 = Input(shape=(500, ))\n",
        "    embedding1_1 = Embedding(vocab_size, 100)(inputs1)\n",
        "    conv1_1 = Conv1D(filters=32, kernel_size=10, activation='relu')(embedding1_1)\n",
        "    pool1_1 = MaxPooling1D(pool_size=2)(conv1_1)\n",
        "    drop1_1 = Dropout(0.5)(pool1_1)\n",
        "\n",
        "    lstm1_1 = LSTM(256, return_sequences=True, dropout=0.2, recurrent_dropout=0.15)(embedding1_1)\n",
        "    lstm2_1 = LSTM(128, return_sequences=False, dropout=0.2, recurrent_dropout=0.15)(lstm1_1)\n",
        "    drop2_1 = Dropout(0.5)(lstm2_1)\n",
        "    \n",
        "    #inputs2 = Input(shape=(length2, ))\n",
        "    #embedding1_2 = Embedding(vocab_size2, 100)(inputs2)\n",
        "    #conv1_2 = Conv1D(filters=32, kernel_size=10, activation='relu')(embedding1_2)\n",
        "    #pool1_2 = MaxPooling1D(pool_size=2)(conv1_2)\n",
        "    #drop1_2 = Dropout(0.5)(pool1_2)\n",
        "\n",
        "    #lstm1_2 = LSTM(256, return_sequences=True, dropout=0.2, recurrent_dropout=0.15)(embedding1_2)\n",
        "    #lstm2_2 = LSTM(128, return_sequences=False, dropout=0.2, recurrent_dropout=0.15)(lstm1_2)\n",
        "    #drop2_2 = Dropout(0.5)(lstm2_2)\n",
        "\n",
        "    #merged = concatenate([drop2_1, drop2_2])\n",
        "    #flat1 = Flatten()(drop1)\n",
        "\n",
        "    dense1 = Dense(32, activation='relu')(drop2_1)\n",
        "    outputs = Dense(num_classes, activation='sigmoid')(dense1)\n",
        "\n",
        "    model = Model(inputs=[inputs1], outputs=outputs)\n",
        "\n",
        "    model.compile(loss='binary_crossentropy', optimizer='adam', metrics=['accuracy'])\n",
        "\n",
        "    return model"
      ],
      "execution_count": 0,
      "outputs": []
    },
    {
      "cell_type": "code",
      "metadata": {
        "id": "5rT8CWOB0XF0",
        "colab_type": "code",
        "colab": {
          "base_uri": "https://localhost:8080/",
          "height": 417
        },
        "outputId": "2109f1b4-45fb-404b-b1ec-62070c83b2f6"
      },
      "source": [
        "model = define_model(500, 500, 2)\n",
        "model.summary()"
      ],
      "execution_count": 40,
      "outputs": [
        {
          "output_type": "stream",
          "text": [
            "Model: \"model_4\"\n",
            "_________________________________________________________________\n",
            "Layer (type)                 Output Shape              Param #   \n",
            "=================================================================\n",
            "input_8 (InputLayer)         (None, 500)               0         \n",
            "_________________________________________________________________\n",
            "embedding_8 (Embedding)      (None, 500, 100)          50000     \n",
            "_________________________________________________________________\n",
            "lstm_13 (LSTM)               (None, 500, 256)          365568    \n",
            "_________________________________________________________________\n",
            "lstm_14 (LSTM)               (None, 128)               197120    \n",
            "_________________________________________________________________\n",
            "dropout_14 (Dropout)         (None, 128)               0         \n",
            "_________________________________________________________________\n",
            "dense_9 (Dense)              (None, 32)                4128      \n",
            "_________________________________________________________________\n",
            "dense_10 (Dense)             (None, 11)                363       \n",
            "=================================================================\n",
            "Total params: 617,179\n",
            "Trainable params: 617,179\n",
            "Non-trainable params: 0\n",
            "_________________________________________________________________\n"
          ],
          "name": "stdout"
        }
      ]
    },
    {
      "cell_type": "code",
      "metadata": {
        "id": "zCZG3B9r0eOn",
        "colab_type": "code",
        "colab": {
          "base_uri": "https://localhost:8080/",
          "height": 201
        },
        "outputId": "ebe87182-a64c-4661-aba7-f2c851c4c20e"
      },
      "source": [
        "model.fit(X_train, y_train, validation_split=0.2, batch_size=128, epochs=10)"
      ],
      "execution_count": 0,
      "outputs": [
        {
          "output_type": "stream",
          "text": [
            "/usr/local/lib/python3.6/dist-packages/tensorflow/python/framework/indexed_slices.py:434: UserWarning: Converting sparse IndexedSlices to a dense Tensor of unknown shape. This may consume a large amount of memory.\n",
            "  \"Converting sparse IndexedSlices to a dense Tensor of unknown shape. \"\n"
          ],
          "name": "stderr"
        },
        {
          "output_type": "stream",
          "text": [
            "Train on 9707 samples, validate on 2427 samples\n",
            "Epoch 1/10\n",
            "9707/9707 [==============================] - 178s 18ms/step - loss: 0.3443 - accuracy: 0.8838 - val_loss: 0.2839 - val_accuracy: 0.9091\n",
            "Epoch 2/10\n",
            "9707/9707 [==============================] - 178s 18ms/step - loss: 0.2909 - accuracy: 0.9091 - val_loss: 0.2832 - val_accuracy: 0.9091\n",
            "Epoch 3/10\n",
            "7040/9707 [====================>.........] - ETA: 48s - loss: 0.2890 - accuracy: 0.9091"
          ],
          "name": "stdout"
        }
      ]
    },
    {
      "cell_type": "code",
      "metadata": {
        "id": "haUb-eQJ0yus",
        "colab_type": "code",
        "colab": {}
      },
      "source": [
        "model.evaluate(X_test, y_test)"
      ],
      "execution_count": 0,
      "outputs": []
    },
    {
      "cell_type": "code",
      "metadata": {
        "id": "86vtCNY214IK",
        "colab_type": "code",
        "colab": {}
      },
      "source": [
        "model.predict(X)[0]"
      ],
      "execution_count": 0,
      "outputs": []
    },
    {
      "cell_type": "code",
      "metadata": {
        "id": "9AzOWMlo2ggH",
        "colab_type": "code",
        "colab": {}
      },
      "source": [
        ""
      ],
      "execution_count": 0,
      "outputs": []
    }
  ]
}